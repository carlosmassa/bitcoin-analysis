{
 "nbformat": 4,
 "nbformat_minor": 2,
 "metadata": {
  "language_info": {
   "name": "python",
   "codemirror_mode": {
    "name": "ipython",
    "version": 3
   },
   "version": "3.8.1-final"
  },
  "orig_nbformat": 2,
  "file_extension": ".py",
  "mimetype": "text/x-python",
  "name": "python",
  "npconvert_exporter": "python",
  "pygments_lexer": "ipython3",
  "version": 3,
  "kernelspec": {
   "name": "python38132bitd3bc09b3c8974684859eb2836ff2aae1",
   "display_name": "Python 3.8.1 32-bit"
  }
 },
 "cells": [
  {
   "cell_type": "markdown",
   "execution_count": null,
   "metadata": {},
   "outputs": [],
   "source": [
    "# Intro\n",
    "The purpose of this work is to replicate the results by PlanB in his article \"Modeling Bitcoin's Value with Scarcity\":\n",
    "\n",
    "https://medium.com/@100trillionUSD/modeling-bitcoins-value-with-scarcity-91fa0fc03e25\n",
    "\n",
    "PlanB's GitHub page:\n",
    "\n",
    "https://github.com/100trillionUSD\n",
    "\n",
    "# Data\n",
    "\n",
    "The dataset used in this exercise has been obtained as I explained in this other [Jupyter notebook](https://github.com/raulcano/bitcoin-analysis/blob/master/btc-dataset.ipynb).\n",
    "\n",
    "I have purposedly used a different set than the one shared by PlanB in his GitHub page, in order to corroborate that there is no particular bias in the sources used by him.\n",
    "\n",
    "Additionally, I  used a total of 1158 datapoints, in contrast with the 111 used by PlanB in the original article.\n",
    " \n",
    "This is due to the granularity of the dataset, that is, I have used information on BTC prices and available supply almost on a daily basis (in particular, once every 3 days)."
   ]
  },
  {
   "cell_type": "markdown",
   "execution_count": null,
   "metadata": {},
   "outputs": [],
   "source": [
    "# Import libraries"
   ]
  },
  {
   "cell_type": "code",
   "execution_count": null,
   "metadata": {},
   "outputs": [],
   "source": [
    "!pip install sklearn\n",
    "!pip install seaborn\n",
    "\n",
    "import pandas as pd\n",
    "import numpy as np\n",
    "import matplotlib.pyplot as plt\n",
    "import matplotlib.ticker as ticker\n",
    "from sklearn.linear_model import LinearRegression\n",
    "from sklearn.model_selection import train_test_split\n",
    "from sklearn import metrics\n",
    "import seaborn as seabornInstance\n",
    "import math\n",
    "from datetime import timedelta\n",
    "\n",
    "print('Libraries imported')"
   ]
  },
  {
   "cell_type": "markdown",
   "execution_count": null,
   "metadata": {},
   "outputs": [],
   "source": [
    "# Building the dataframe\n",
    "## Load dataframe from CSV file and remove unnecessary columns\n",
    "\n",
    "Available columns are:\n",
    "\n",
    "*id, hash, time, median_time, size, stripped_size, weight, version, version_hex, version_bits, merkle_root, nonce, bits, difficulty, chainwork, coinbase_data_hex, transaction_count, witness_count, input_count, output_count, input_total, input_total_usd, output_total, output_total_usd, fee_total, fee_total_usd, fee_per_kb, fee_per_kb_usd, fee_per_kwu, fee_per_kwu_usd, cdd_total, generation, generation_usd, reward, reward_usd, guessed_miner*"
   ]
  },
  {
   "cell_type": "code",
   "execution_count": null,
   "metadata": {},
   "outputs": [],
   "source": [
    "BLOCKS_DOWNLOAD_DIR = './blocks/'\n",
    "ALL_BLOCKS_CSV = 'all_blocks.csv'\n",
    "\n",
    "df = pd.read_csv(BLOCKS_DOWNLOAD_DIR + ALL_BLOCKS_CSV)\n",
    "keep_col = ['id','time','generation']\n",
    "df = df[keep_col]\n",
    "df.head()\n",
    "\n",
    "# If we want to save the new CSV with a subset of the columns to save memory loading next time\n",
    "# df.to_csv(BLOCKS_DOWNLOAD_DIR + \"all-blocks-reduced.csv\", index=False)"
   ]
  },
  {
   "cell_type": "markdown",
   "execution_count": null,
   "metadata": {},
   "outputs": [],
   "source": [
    "## Let's get some info about the dataset"
   ]
  },
  {
   "cell_type": "code",
   "execution_count": null,
   "metadata": {},
   "outputs": [],
   "source": [
    "print(df.dtypes)\n",
    "print(df.shape)"
   ]
  },
  {
   "cell_type": "markdown",
   "execution_count": null,
   "metadata": {},
   "outputs": [],
   "source": [
    "## Remove potential duplicates based on the block ID\n",
    "\n",
    "This is to avoid any potential duplication errors when obtaining the data"
   ]
  },
  {
   "cell_type": "code",
   "execution_count": null,
   "metadata": {},
   "outputs": [],
   "source": [
    "df.drop_duplicates(subset=['id'], keep='first', inplace=True)\n",
    "df.reset_index(drop=True, inplace=True)\n",
    "df.head()"
   ]
  },
  {
   "cell_type": "code",
   "execution_count": null,
   "metadata": {},
   "outputs": [],
   "source": [
    "df_orig = df\n",
    "\n",
    "#df = df_orig"
   ]
  },
  {
   "cell_type": "markdown",
   "execution_count": null,
   "metadata": {},
   "outputs": [],
   "source": [
    "## Add column with the day each block was created\n",
    "\n"
   ]
  },
  {
   "cell_type": "code",
   "execution_count": null,
   "metadata": {},
   "outputs": [],
   "source": [
    "df['date'] = pd.to_datetime(df['time'])\n",
    "\n",
    "df['date'] = df['date'].dt.date\n",
    "\n",
    "df.head()"
   ]
  },
  {
   "cell_type": "markdown",
   "execution_count": null,
   "metadata": {},
   "outputs": [],
   "source": [
    "## Group rows by day, add new calculated columns\n",
    "\n",
    "Each row represents one day, with these new fields: \n",
    "- *btc_1day*: counts the BTC generated that day\n",
    "- *btc_365days*: counts the BTC generated the last 365 days\n",
    "- *total_btc*: represents the total number of BTC existing until that day\n",
    "- *sf_365days*: represents the stock-to-flow in the last 365 days\n",
    "- *ln_sf_365days*: the natural logarithm of SF 365\n",
    "- *month*: the month column will be useful for some plotting later"
   ]
  },
  {
   "cell_type": "code",
   "execution_count": null,
   "metadata": {},
   "outputs": [],
   "source": [
    "df = df.groupby(['date']).agg(\n",
    "    btc_1day = pd.NamedAgg(column='generation', aggfunc='sum'),\n",
    "    daily_blocks =  pd.NamedAgg(column='date', aggfunc='count'),    \n",
    "    ).reset_index()\n",
    "\n",
    "# change from satoshis to BTC\n",
    "df['btc_1day'] = df['btc_1day']/100000000\n",
    "\n",
    "df['total_btc'] = df['btc_1day'].cumsum()\n",
    "df['total_blocks'] = df['daily_blocks'].cumsum()\n",
    "df['btc_365days'] = df['btc_1day'].rolling(min_periods=1, window=366).sum()\n",
    "df['sf_365days'] = df['total_btc']/df['btc_365days']\n",
    "\n",
    "df['ln_sf_365days'] = np.log(df['sf_365days']) # natural log of SF 365\n",
    "\n",
    "df['month'] = pd.to_datetime(df['date'])\n",
    "df['month'] = df['month'].dt.strftime('%Y-%m')\n",
    "\n",
    "df.head(20)"
   ]
  },
  {
   "cell_type": "markdown",
   "execution_count": null,
   "metadata": {},
   "outputs": [],
   "source": [
    "## Add weighted BTC price\n",
    "\n",
    "New fields: \n",
    "- *price*: weighted btc price weighted of that day\n",
    "- *ln_price*: natural logarithm of the price\n",
    "- *market_cap*: market value of all btc\n",
    "- *ln_market_cap*: natural logarithm of the market cap"
   ]
  },
  {
   "cell_type": "code",
   "execution_count": null,
   "metadata": {},
   "outputs": [],
   "source": [
    "PRICE_DOWNLOAD_DIR = './price/'\n",
    "ALL_PRICES_CSV = 'market-price-3day-interval.csv'\n",
    "\n",
    "df_prices = pd.read_csv(PRICE_DOWNLOAD_DIR + ALL_PRICES_CSV, header=None, names=['date', 'price'])\n",
    "df_prices['date'] = pd.to_datetime(df_prices['date'], format = '%d-%m-%y %H:%M')\n",
    "\n",
    "df_prices['date'] = df_prices['date'].dt.date\n",
    "\n",
    "df = pd.merge(df, df_prices, on='date', how='left')\n",
    "df['ln_price'] = np.log(df['price'])\n",
    "df['market_cap'] = df['price'] * df['total_btc']\n",
    "df['ln_market_cap'] = np.log(df['market_cap'])\n",
    "\n",
    "df.head()"
   ]
  },
  {
   "cell_type": "markdown",
   "execution_count": null,
   "metadata": {},
   "outputs": [],
   "source": [
    "## Check distribution of NaN values\n",
    "\n",
    "Because the data source we used gives a price every 3 days we have several NaN values in the price.\n",
    "\n",
    "Also, the LN calculation with a price value of 0 results in -Infinite; this happens during the first months of BTC, in which no actual price quote was available.\n",
    "\n",
    "We will replace all +-Inf values with NaN, and then plot the distribution of those values per date to see where we are missing more datapoints. It is expected that the first months of BTC will have less information about that.\n"
   ]
  },
  {
   "cell_type": "code",
   "execution_count": null,
   "metadata": {},
   "outputs": [],
   "source": [
    "df = df.replace([np.inf, -np.inf], np.nan)\n",
    "\n",
    "# we create a dataframe subset only with the rows that DO have a NaN value\n",
    "df_NaN = df[df.isnull().any(1)]\n",
    "print('There are ' + str(df_NaN.shape[0]) + ' rows that contain at least one NaN value, from a total of ' + str(df.shape[0]) + ' rows')\n",
    "\n",
    "# lets plot an histogram of those NaN values gruped by date\n",
    "df_NaN = df_NaN.groupby(['month']).agg(\n",
    "    monthly_NaN =  pd.NamedAgg(column='month', aggfunc='count'),\n",
    "    ).reset_index()\n",
    "    "
   ]
  },
  {
   "cell_type": "code",
   "execution_count": null,
   "metadata": {},
   "outputs": [],
   "source": [
    "fig = plt.figure()\n",
    "ax = fig.add_axes([0, 0, 1, 1]) # main axes\n",
    "ax.plot(df_NaN['month'], df_NaN['monthly_NaN'])\n",
    "ax.set_title('Distribution of NaN values across time')\n",
    "ax.set_xlabel('Date')\n",
    "ax.set_xticks(['2009-01','2010-01','2011-01','2012-01','2013-01','2014-01','2015-01','2016-01','2017-01','2018-01','2019-01','2020-01'])\n",
    "ax.set_xticklabels(['2009','2010','2011','2012','2013','2014','2015','2016','2017','2018','2019','2020'])\n",
    "ax.set_ylabel('Number of NaN values per month')\n",
    "plt.grid(True, which=\"both\")\n",
    "plt.show()\n"
   ]
  },
  {
   "cell_type": "markdown",
   "execution_count": null,
   "metadata": {},
   "outputs": [],
   "source": [
    "## Remove NaN values and count total datapoints\n",
    "We will ignore NaN datapoints in our calculation."
   ]
  },
  {
   "cell_type": "code",
   "execution_count": null,
   "metadata": {},
   "outputs": [],
   "source": [
    "df = df.dropna()\n",
    "print('Total datapoints: ' + str(df.shape[0]))"
   ]
  },
  {
   "cell_type": "markdown",
   "execution_count": null,
   "metadata": {},
   "outputs": [],
   "source": [
    "# Plotting the data\n",
    "\n",
    "## Linear scales"
   ]
  },
  {
   "cell_type": "code",
   "execution_count": null,
   "metadata": {},
   "outputs": [],
   "source": [
    "colors=['b', 'c', 'y', 'm', 'r']\n",
    "fig = plt.figure()\n",
    "ax = fig.add_axes([0, 0, 1, 1]) # main axes\n",
    "ax.scatter(df['sf_365days'], df['market_cap'], marker='o', color=colors[4])\n",
    "ax.set_title('SF vs Market capitalization')\n",
    "ax.set_xlabel('Stock-to-flow (scarcity)')\n",
    "ax.set_ylabel('Market capitalization')\n",
    "\n",
    "#ax.get_yaxis().set_major_formatter(ticker.FuncFormatter(lambda x, p: format(int(x), ',')))\n",
    "format = '${x:,.0f}'\n",
    "tick = ticker.StrMethodFormatter(format)\n",
    "ax.yaxis.set_major_formatter(tick) \n",
    "plt.grid(True, which=\"both\")\n",
    "plt.show()\n"
   ]
  },
  {
   "cell_type": "markdown",
   "execution_count": null,
   "metadata": {},
   "outputs": [],
   "source": [
    "## Log-log scales"
   ]
  },
  {
   "cell_type": "code",
   "execution_count": null,
   "metadata": {},
   "outputs": [],
   "source": [
    "fig = plt.figure()\n",
    "ax = fig.add_axes([0, 0, 1, 1]) # main axes\n",
    "ax.loglog(df['sf_365days'], df['market_cap'], marker='o', color=colors[0])\n",
    "ax.set_title('SF vs Market capitalization (logarithmic scales)')\n",
    "ax.set_xlabel('Stock-to-flow (scarcity)')\n",
    "\n",
    "ax.set_ylabel('Market capitalization')\n",
    "#ax.get_yaxis().set_major_formatter(ticker.FuncFormatter(lambda x, p: format(int(x), ',')))\n",
    "format = '${x:,.0f}'\n",
    "tick = ticker.StrMethodFormatter(format)\n",
    "ax.yaxis.set_major_formatter(tick)\n",
    "\n",
    "ax.set_xlim([0,100])\n",
    "ax.set_ylim([0,1000000000000])\n",
    "\n",
    "plt.grid(True, which=\"both\")\n",
    "plt.show()"
   ]
  },
  {
   "cell_type": "markdown",
   "execution_count": null,
   "metadata": {},
   "outputs": [],
   "source": [
    "# Linear regression\n",
    "\n",
    "As we can see with the naked eye, there seems to be a  linear relationship between ln(SF) and ln(market cap).\n",
    "\n",
    "Next, we will do a linear regression to obtain such relationship (using 90% of our dataset) and test it for errors against a test set (10% of our data)."
   ]
  },
  {
   "cell_type": "code",
   "execution_count": null,
   "metadata": {},
   "outputs": [],
   "source": [
    "X = df['ln_sf_365days'].values.reshape(-1,1)\n",
    "y = df['ln_market_cap'].values.reshape(-1,1)\n",
    "\n",
    "# split the dataset into traing and test sets\n",
    "X_train, X_test, y_train, y_test = train_test_split(X, y, test_size=0.1, random_state=0)\n",
    "\n",
    "regressor = LinearRegression()  \n",
    "regressor.fit(X_train, y_train) #training the algorithm\n",
    "\n",
    "print('The linear function derived from the model is:')\n",
    "print('ln(Market cap) = ' + str(round(regressor.coef_[0][0],2)) + '*ln(SF) + ' + str(round(regressor.intercept_[0],2)))"
   ]
  },
  {
   "cell_type": "code",
   "execution_count": null,
   "metadata": {},
   "outputs": [],
   "source": [
    "# Let's test the model with predictions\n",
    "y_pred = regressor.predict(X_test)\n",
    "\n",
    "df_linearR = pd.DataFrame({'Actual': y_test.flatten(), 'Predicted': y_pred.flatten()})\n",
    "df_linearR\n"
   ]
  },
  {
   "cell_type": "code",
   "execution_count": null,
   "metadata": {},
   "outputs": [],
   "source": [
    "fig = plt.figure()\n",
    "ax = fig.add_axes([0, 0, 1, 1]) # main axes\n",
    "ax.scatter(X_test, y_test, color='gray')\n",
    "ax.plot(X_test, y_pred, color='red', linewidth=2)\n",
    "\n",
    "ax.set_title('Linear fit of test set')\n",
    "ax.legend(('predicted market cap (ln)','actual market cap (ln)'),\n",
    "    loc=\"upper left\",\n",
    "    ncol=1,\n",
    "    fontsize=10)\n",
    "\n",
    "\n",
    "ax.set_xlabel('ln(Stock-to-flow)')\n",
    "ax.set_ylabel('ln(Market capitalization)')\n",
    "\n",
    "#Text box\n",
    "# these are matplotlib.patch.Patch properties\n",
    "textstr = 'R2 score: ' + str(round(metrics.r2_score(y_test, y_pred),4)*100) + '%'\n",
    "props = dict(boxstyle='round', facecolor='beige', alpha=0.5)\n",
    "# place a text box\n",
    "ax.text(0.73, 0.05, textstr, transform=ax.transAxes, fontsize=12,\n",
    "    verticalalignment='bottom', bbox=props)\n",
    "\n",
    "\n",
    "plt.grid(True, which=\"both\")\n",
    "plt.show()\n"
   ]
  },
  {
   "cell_type": "markdown",
   "execution_count": null,
   "metadata": {},
   "outputs": [],
   "source": [
    "# Metrics of the model\n",
    "The final step is to evaluate the performance of the algorithm. This step is particularly important to compare how well different algorithms perform on a particular dataset. For regression algorithms, three evaluation metrics are commonly used:\n",
    "\n",
    "- Mean Absolute Error (MAE) is the mean of the absolute value of the errors.\n",
    "- Mean Squared Error (MSE) is the mean of the squared errors.\n",
    "- Root Mean Squared Error (RMSE) is the square root of the mean of the squared errors.\n",
    "- Coefficient of determination (R2) mathematically describes the strength of a correlation between two variables."
   ]
  },
  {
   "cell_type": "code",
   "execution_count": null,
   "metadata": {},
   "outputs": [],
   "source": [
    "print('Mean Absolute Error:', metrics.mean_absolute_error(y_test, y_pred))\n",
    "print('Mean Squared Error:', metrics.mean_squared_error(y_test, y_pred))  \n",
    "print('Root Mean Squared Error:', np.sqrt(metrics.mean_squared_error(y_test, y_pred)))\n",
    "print('Coefficient of determination: ', metrics.r2_score(y_test, y_pred))"
   ]
  },
  {
   "cell_type": "markdown",
   "execution_count": null,
   "metadata": {},
   "outputs": [],
   "source": [
    "# Applying the model to our dataframe\n",
    "\n",
    "ln(Market cap) = 3.42*ln(SF) + 14.4\n",
    "\n",
    "Market cap = 1,794,070 SF^3.42\n",
    "\n",
    "BTC value formula:\n",
    "Market cap = BTC value * Total # of BTC\n",
    "\n",
    "BTC value * Total # of BTC = 1,794,070 SF^3.42\n",
    "\n",
    "BTC value = (1,794,070 / Total # of BTC) SF^3.42\n",
    "\n"
   ]
  },
  {
   "cell_type": "code",
   "execution_count": null,
   "metadata": {},
   "outputs": [],
   "source": [
    "df['predicted_ln_market_cap'] = regressor.coef_[0][0] * df['ln_sf_365days'] + regressor.intercept_[0]\n",
    "df['predicted_market_cap'] = np.exp(df['predicted_ln_market_cap'])\n",
    "df['predicted_price'] = df['predicted_market_cap'] / df['total_btc']\n",
    "df['ln_predicted_price'] = np.log(df['predicted_price'])\n",
    "df['abs_error'] = abs(df['predicted_price'] - df['price'])\n",
    "df['percentage_error'] = df['abs_error'] / df['price']\n",
    "\n",
    "df['abs_error_ln'] = abs(df['ln_price'] - df['ln_predicted_price'])\n",
    "df['percentage_error_ln'] = df['abs_error_ln'] / df['ln_price']\n",
    "\n",
    "df['abs_error_market_cap_ln'] = abs(df['ln_market_cap'] - df['predicted_ln_market_cap'])\n",
    "df['percentage_error_market_cap_ln'] = df['abs_error_market_cap_ln'] / df['ln_market_cap']\n",
    "\n"
   ]
  },
  {
   "cell_type": "code",
   "execution_count": null,
   "metadata": {},
   "outputs": [],
   "source": [
    "df.tail(200)"
   ]
  },
  {
   "cell_type": "markdown",
   "execution_count": null,
   "metadata": {},
   "outputs": [],
   "source": [
    "Plot the percentage of error of the BTC price predicted by the model since the beginning"
   ]
  },
  {
   "cell_type": "code",
   "execution_count": null,
   "metadata": {},
   "outputs": [],
   "source": [
    "fig = plt.figure()\n",
    "ax = fig.add_axes([0, 0, 1, 1]) # main axes\n",
    "ax.plot(df['date'], df['predicted_price'], color=colors[2])\n",
    "ax.plot(df['date'], df['price'], color=colors[0])\n",
    "ax.set_title('Predicted vs actual BTC price')\n",
    "ax.legend(('predicted price','actual price'),\n",
    "    loc=\"upper left\",\n",
    "    ncol=1,\n",
    "    fontsize=8)\n",
    "\n",
    "ax.set_ylabel('BTC price')\n",
    "format = '${x:,.0f}'\n",
    "tick = ticker.StrMethodFormatter(format)\n",
    "ax.yaxis.set_major_formatter(tick)\n",
    "\n",
    "plt.grid(True, which=\"both\")\n",
    "plt.show()"
   ]
  },
  {
   "cell_type": "code",
   "execution_count": null,
   "metadata": {},
   "outputs": [],
   "source": [
    "fig = plt.figure()\n",
    "ax = fig.add_axes([0, 0, 1, 1]) # main axes\n",
    "ax.semilogy(df['date'], df['predicted_price'], color=colors[2])\n",
    "ax.semilogy(df['date'], df['price'], color=colors[0])\n",
    "ax.set_title('Predicted vs actual BTC price (log scales)')\n",
    "ax.legend(('predicted price','actual price'),\n",
    "    loc=\"upper left\",\n",
    "    ncol=1,\n",
    "    fontsize=8)\n",
    "\n",
    "ax.set_ylabel('BTC price')\n",
    "format = '${x:,.0f}'\n",
    "tick = ticker.StrMethodFormatter(format)\n",
    "ax.yaxis.set_major_formatter(tick)\n",
    "plt.grid(True, which=\"both\")\n",
    "plt.show()"
   ]
  },
  {
   "cell_type": "markdown",
   "execution_count": null,
   "metadata": {},
   "outputs": [],
   "source": [
    "## Percentage of error over the logarithm of BTC price\n",
    "\n",
    "This shows that the SF model predicts very accurately the logarithm of the BTC price based on the logarithm of the SF value."
   ]
  },
  {
   "cell_type": "code",
   "execution_count": null,
   "metadata": {},
   "outputs": [],
   "source": [
    "fig = plt.figure()\n",
    "ax = fig.add_axes([0, 0, 1, 1]) # main axes\n",
    "ax.plot(df['date'], df['percentage_error_ln'])\n",
    "ax.set_title(\"Percentage of error of the SF model\")\n",
    "ax.set_ylabel(\"Percentage of error over ln(price BTC)\")\n",
    "ax.yaxis.set_major_formatter(ticker.FuncFormatter(lambda y, _: '{:.0%}'.format(y))) \n",
    "\n",
    "ax.set_ylim([0,1])\n",
    "\n",
    "plt.grid(True, which=\"both\")\n",
    "plt.show()"
   ]
  },
  {
   "cell_type": "markdown",
   "execution_count": null,
   "metadata": {},
   "outputs": [],
   "source": [
    "## Percentage of error over the BTC price\n",
    "\n",
    "Unfortunately, as we see here, the accurate prediction of the ln(BTC price) does not translate very well to the prediction of the BTC price."
   ]
  },
  {
   "cell_type": "code",
   "execution_count": null,
   "metadata": {},
   "outputs": [],
   "source": [
    "fig = plt.figure()\n",
    "ax = fig.add_axes([0, 0, 1, 1]) # main axes\n",
    "ax.plot(df['date'], df['percentage_error'])\n",
    "\n",
    "ax.set_title(\"Percentage of error of the SF model\")\n",
    "ax.set_xlabel(\"Year\")\n",
    "ax.set_ylabel(\"Percentage of error over BTC price\")\n",
    "ax.yaxis.set_major_formatter(ticker.FuncFormatter(lambda y, _: '{:.0%}'.format(y))) \n",
    "\n",
    "ax.set_ylim([0,2.5])\n",
    "\n",
    "plt.grid(True, which=\"both\")\n",
    "plt.show()"
   ]
  },
  {
   "cell_type": "markdown",
   "execution_count": null,
   "metadata": {},
   "outputs": [],
   "source": [
    "## Plotting together predicted price and error"
   ]
  },
  {
   "cell_type": "code",
   "execution_count": null,
   "metadata": {},
   "outputs": [],
   "source": [
    "fig = plt.figure()\n",
    "ax = fig.add_axes([0, 0, 1, 1]) # main axes\n",
    "ax.semilogy(df['date'], df['predicted_price'], color=colors[2])\n",
    "ax.semilogy(df['date'], df['price'], color=colors[0])\n",
    "ax.set_title('Predicted vs actual BTC price (log scales), and error %')\n",
    "ax.legend(('predicted price','actual price'),\n",
    "    loc=\"bottom right\",\n",
    "    ncol=1,\n",
    "    fontsize=8)\n",
    "\n",
    "ax.set_ylabel('BTC price')\n",
    "format = '${x:,.0f}'\n",
    "tick = ticker.StrMethodFormatter(format)\n",
    "ax.yaxis.set_major_formatter(tick)\n",
    "\n",
    "\n",
    "# twin object for two different y-axis on the sample plot\n",
    "ax2=ax.twinx()\n",
    "# make a plot with different y-axis using second axis object\n",
    "ax2.plot(df['date'], df['percentage_error_ln'], color='gray')\n",
    "ax2.set_xlabel(\"Year\")\n",
    "ax2.set_ylabel(\"Percentage of error over ln(price BTC)\")\n",
    "ax2.yaxis.set_major_formatter(ticker.FuncFormatter(lambda y, _: '{:.0%}'.format(y))) \n",
    "ax2.set_ylim([0,1])\n",
    "\n",
    "\n",
    "plt.grid(True, which=\"both\")\n",
    "plt.show()"
   ]
  },
  {
   "cell_type": "markdown",
   "execution_count": null,
   "metadata": {},
   "outputs": [],
   "source": [
    "# Predictions for the future\n",
    "\n",
    "Let's expand the dataset with the normal rate of creation of blocks and fill the values with the prediction.\n",
    "\n",
    "For this part, we create range of dates between last date in the original dataframe and a few years later on. See the following variables to change the range at your will"
   ]
  },
  {
   "cell_type": "code",
   "execution_count": null,
   "metadata": {},
   "outputs": [],
   "source": [
    "day_increment = 3 # Change this if future datasets require different period\n",
    "years_in_the_future = 2 # Change this at will\n",
    "\n",
    "def get_btc_block_reward(block_number):\n",
    "    initial_reward = 50\n",
    "    blocks_per_halving = 210000\n",
    "    number_of_halvings = int(block_number/blocks_per_halving)\n",
    "    return initial_reward / pow(2,number_of_halvings)"
   ]
  },
  {
   "cell_type": "code",
   "execution_count": null,
   "metadata": {},
   "outputs": [],
   "source": [
    "df_future = pd.DataFrame()\n",
    "\n",
    "# blocks generated per day on average\n",
    "average_blocks_per_day = int(round(df[\"daily_blocks\"].mean(),0))\n",
    "last_known_amount_blocks = df['total_blocks'].max()\n",
    "last_known_amount_btc = df['total_btc'].max()\n",
    "\n",
    "# future dates\n",
    "periods = years_in_the_future * 365 / day_increment\n",
    "start_date = df.date.max() + timedelta(days=day_increment)\n",
    "future_dates = pd.date_range(start=start_date, periods=periods, freq=str(day_increment)+'D')\n",
    "\n",
    "# create a new df with the same structure of the current one\n",
    "# this way it's easier to merge both later if needed\n",
    "df_future = df.iloc[0:0]\n",
    "\n",
    "df_future['date'] = future_dates\n",
    "df_future['date'] = df_future['date'].dt.date\n",
    "df_future['daily_blocks'] = average_blocks_per_day\n",
    "df_future['total_blocks'] = (df_future['daily_blocks']*day_increment).cumsum() + last_known_amount_blocks\n",
    "df_future['btc_1day'] = df_future['total_blocks']\n",
    "df_future['btc_1day'] = df_future['btc_1day'].apply(lambda x: get_btc_block_reward(x)) * df_future['daily_blocks']\n",
    "df_future['total_btc'] = (df_future['btc_1day']*day_increment).cumsum() + last_known_amount_btc\n",
    "df_future['month'] = pd.to_datetime(df_future['date'])\n",
    "df_future['month'] = df_future['month'].dt.strftime('%Y-%m')\n",
    "\n",
    "# we need to concatenate with the df dataframe to make use of the values there\n",
    "df_future =  pd.concat([df, df_future])\n",
    "\n",
    "# This one has to be generated with data from the df dataframe\n",
    "df_future['btc_365days'] = df_future['btc_1day'].rolling(min_periods=1, window=int(366/day_increment)).sum()*day_increment\n",
    "\n",
    "# Now we derive everything else\n",
    "df_future['sf_365days'] = df_future['total_btc']/df_future['btc_365days']\n",
    "df_future['ln_sf_365days'] = np.log(df_future['sf_365days']) # natural log of SF 365\n",
    "\n",
    "df_future['predicted_ln_market_cap'] = regressor.coef_[0][0] * df_future['ln_sf_365days'] + regressor.intercept_[0]\n",
    "df_future['predicted_market_cap'] = np.exp(df_future['predicted_ln_market_cap'])\n",
    "df_future['predicted_price'] = df_future['predicted_market_cap'] / df_future['total_btc']\n",
    "df_future['ln_predicted_price'] = np.log(df_future['predicted_price'])\n",
    "\n",
    "# This is to retrieve the actual values which were modified by the wrangling we did with the future ones\n",
    "df1 = df_future.iloc[:df.shape[0], :]\n",
    "df2 = df_future.iloc[df.shape[0]:, :]\n",
    "df_future =  pd.concat([df, df2])\n",
    "#df_future.to_csv('df_future.csv')"
   ]
  },
  {
   "cell_type": "code",
   "execution_count": 31,
   "metadata": {},
   "outputs": [
    {
     "data": {
      "image/png": "[encoded data removed]",
      "image/svg+xml": "<?xml version=\"1.0\" encoding=\"utf-8\" standalone=\"no\"?>\r\n<!DOCTYPE svg PUBLIC \"-//W3C//DTD SVG 1.1//EN\"\r\n  \"http://www.w3.org/Graphics/SVG/1.1/DTD/svg11.dtd\">\r\n<!-- Created with matplotlib (https://matplotlib.org/) -->\r\n<svg height=\"334.19625pt\" version=\"1.1\" viewBox=\"0 0 514.79375 334.19625\" width=\"514.79375pt\" xmlns=\"http://www.w3.org/2000/svg\" xmlns:xlink=\"http://www.w3.org/1999/xlink\">\r\n <defs>\r\n  <style type=\"text/css\">\r\n*{stroke-linecap:butt;stroke-linejoin:round;}\r\n  </style>\r\n </defs>\r\n <g id=\"figure_1\">\r\n  <g id=\"patch_1\">\r\n   <path d=\"M 0 334.19625 \r\nL 514.79375 334.19625 \r\nL 514.79375 0 \r\nL 0 0 \r\nz\r\n\" style=\"fill:none;\"/>\r\n  </g>\r\n  <g id=\"axes_1\">\r\n   <g id=\"patch_2\">\r\n    <path d=\"M 75.59375 310.318125 \r\nL 507.59375 310.318125 \r\nL 507.59375 22.318125 \r\nL 75.59375 22.318125 \r\nz\r\n\" style=\"fill:#ffffff;\"/>\r\n   </g>\r\n   <g id=\"matplotlib.axis_1\">\r\n    <g id=\"xtick_1\">\r\n     <g id=\"line2d_1\">\r\n      <path clip-path=\"url(#p9cc784e9ed)\" d=\"M 141.889854 310.318125 \r\nL 141.889854 22.318125 \r\n\" style=\"fill:none;stroke:#b0b0b0;stroke-linecap:square;stroke-width:0.8;\"/>\r\n     </g>\r\n     <g id=\"line2d_2\">\r\n      <defs>\r\n       <path d=\"M 0 0 \r\nL 0 3.5 \r\n\" id=\"m46311507d7\" style=\"stroke:#000000;stroke-width:0.8;\"/>\r\n      </defs>\r\n      <g>\r\n       <use style=\"stroke:#000000;stroke-width:0.8;\" x=\"141.889854\" xlink:href=\"#m46311507d7\" y=\"310.318125\"/>\r\n      </g>\r\n     </g>\r\n     <g id=\"text_1\">\r\n      <!-- 2012 -->\r\n      <defs>\r\n       <path d=\"M 19.1875 8.296875 \r\nL 53.609375 8.296875 \r\nL 53.609375 0 \r\nL 7.328125 0 \r\nL 7.328125 8.296875 \r\nQ 12.9375 14.109375 22.625 23.890625 \r\nQ 32.328125 33.6875 34.8125 36.53125 \r\nQ 39.546875 41.84375 41.421875 45.53125 \r\nQ 43.3125 49.21875 43.3125 52.78125 \r\nQ 43.3125 58.59375 39.234375 62.25 \r\nQ 35.15625 65.921875 28.609375 65.921875 \r\nQ 23.96875 65.921875 18.8125 64.3125 \r\nQ 13.671875 62.703125 7.8125 59.421875 \r\nL 7.8125 69.390625 \r\nQ 13.765625 71.78125 18.9375 73 \r\nQ 24.125 74.21875 28.421875 74.21875 \r\nQ 39.75 74.21875 46.484375 68.546875 \r\nQ 53.21875 62.890625 53.21875 53.421875 \r\nQ 53.21875 48.921875 51.53125 44.890625 \r\nQ 49.859375 40.875 45.40625 35.40625 \r\nQ 44.1875 33.984375 37.640625 27.21875 \r\nQ 31.109375 20.453125 19.1875 8.296875 \r\nz\r\n\" id=\"DejaVuSans-50\"/>\r\n       <path d=\"M 31.78125 66.40625 \r\nQ 24.171875 66.40625 20.328125 58.90625 \r\nQ 16.5 51.421875 16.5 36.375 \r\nQ 16.5 21.390625 20.328125 13.890625 \r\nQ 24.171875 6.390625 31.78125 6.390625 \r\nQ 39.453125 6.390625 43.28125 13.890625 \r\nQ 47.125 21.390625 47.125 36.375 \r\nQ 47.125 51.421875 43.28125 58.90625 \r\nQ 39.453125 66.40625 31.78125 66.40625 \r\nz\r\nM 31.78125 74.21875 \r\nQ 44.046875 74.21875 50.515625 64.515625 \r\nQ 56.984375 54.828125 56.984375 36.375 \r\nQ 56.984375 17.96875 50.515625 8.265625 \r\nQ 44.046875 -1.421875 31.78125 -1.421875 \r\nQ 19.53125 -1.421875 13.0625 8.265625 \r\nQ 6.59375 17.96875 6.59375 36.375 \r\nQ 6.59375 54.828125 13.0625 64.515625 \r\nQ 19.53125 74.21875 31.78125 74.21875 \r\nz\r\n\" id=\"DejaVuSans-48\"/>\r\n       <path d=\"M 12.40625 8.296875 \r\nL 28.515625 8.296875 \r\nL 28.515625 63.921875 \r\nL 10.984375 60.40625 \r\nL 10.984375 69.390625 \r\nL 28.421875 72.90625 \r\nL 38.28125 72.90625 \r\nL 38.28125 8.296875 \r\nL 54.390625 8.296875 \r\nL 54.390625 0 \r\nL 12.40625 0 \r\nz\r\n\" id=\"DejaVuSans-49\"/>\r\n      </defs>\r\n      <g transform=\"translate(129.164854 324.916562)scale(0.1 -0.1)\">\r\n       <use xlink:href=\"#DejaVuSans-50\"/>\r\n       <use x=\"63.623047\" xlink:href=\"#DejaVuSans-48\"/>\r\n       <use x=\"127.246094\" xlink:href=\"#DejaVuSans-49\"/>\r\n       <use x=\"190.869141\" xlink:href=\"#DejaVuSans-50\"/>\r\n      </g>\r\n     </g>\r\n    </g>\r\n    <g id=\"xtick_2\">\r\n     <g id=\"line2d_3\">\r\n      <path clip-path=\"url(#p9cc784e9ed)\" d=\"M 210.243101 310.318125 \r\nL 210.243101 22.318125 \r\n\" style=\"fill:none;stroke:#b0b0b0;stroke-linecap:square;stroke-width:0.8;\"/>\r\n     </g>\r\n     <g id=\"line2d_4\">\r\n      <g>\r\n       <use style=\"stroke:#000000;stroke-width:0.8;\" x=\"210.243101\" xlink:href=\"#m46311507d7\" y=\"310.318125\"/>\r\n      </g>\r\n     </g>\r\n     <g id=\"text_2\">\r\n      <!-- 2014 -->\r\n      <defs>\r\n       <path d=\"M 37.796875 64.3125 \r\nL 12.890625 25.390625 \r\nL 37.796875 25.390625 \r\nz\r\nM 35.203125 72.90625 \r\nL 47.609375 72.90625 \r\nL 47.609375 25.390625 \r\nL 58.015625 25.390625 \r\nL 58.015625 17.1875 \r\nL 47.609375 17.1875 \r\nL 47.609375 0 \r\nL 37.796875 0 \r\nL 37.796875 17.1875 \r\nL 4.890625 17.1875 \r\nL 4.890625 26.703125 \r\nz\r\n\" id=\"DejaVuSans-52\"/>\r\n      </defs>\r\n      <g transform=\"translate(197.518101 324.916562)scale(0.1 -0.1)\">\r\n       <use xlink:href=\"#DejaVuSans-50\"/>\r\n       <use x=\"63.623047\" xlink:href=\"#DejaVuSans-48\"/>\r\n       <use x=\"127.246094\" xlink:href=\"#DejaVuSans-49\"/>\r\n       <use x=\"190.869141\" xlink:href=\"#DejaVuSans-52\"/>\r\n      </g>\r\n     </g>\r\n    </g>\r\n    <g id=\"xtick_3\">\r\n     <g id=\"line2d_5\">\r\n      <path clip-path=\"url(#p9cc784e9ed)\" d=\"M 278.502841 310.318125 \r\nL 278.502841 22.318125 \r\n\" style=\"fill:none;stroke:#b0b0b0;stroke-linecap:square;stroke-width:0.8;\"/>\r\n     </g>\r\n     <g id=\"line2d_6\">\r\n      <g>\r\n       <use style=\"stroke:#000000;stroke-width:0.8;\" x=\"278.502841\" xlink:href=\"#m46311507d7\" y=\"310.318125\"/>\r\n      </g>\r\n     </g>\r\n     <g id=\"text_3\">\r\n      <!-- 2016 -->\r\n      <defs>\r\n       <path d=\"M 33.015625 40.375 \r\nQ 26.375 40.375 22.484375 35.828125 \r\nQ 18.609375 31.296875 18.609375 23.390625 \r\nQ 18.609375 15.53125 22.484375 10.953125 \r\nQ 26.375 6.390625 33.015625 6.390625 \r\nQ 39.65625 6.390625 43.53125 10.953125 \r\nQ 47.40625 15.53125 47.40625 23.390625 \r\nQ 47.40625 31.296875 43.53125 35.828125 \r\nQ 39.65625 40.375 33.015625 40.375 \r\nz\r\nM 52.59375 71.296875 \r\nL 52.59375 62.3125 \r\nQ 48.875 64.0625 45.09375 64.984375 \r\nQ 41.3125 65.921875 37.59375 65.921875 \r\nQ 27.828125 65.921875 22.671875 59.328125 \r\nQ 17.53125 52.734375 16.796875 39.40625 \r\nQ 19.671875 43.65625 24.015625 45.921875 \r\nQ 28.375 48.1875 33.59375 48.1875 \r\nQ 44.578125 48.1875 50.953125 41.515625 \r\nQ 57.328125 34.859375 57.328125 23.390625 \r\nQ 57.328125 12.15625 50.6875 5.359375 \r\nQ 44.046875 -1.421875 33.015625 -1.421875 \r\nQ 20.359375 -1.421875 13.671875 8.265625 \r\nQ 6.984375 17.96875 6.984375 36.375 \r\nQ 6.984375 53.65625 15.1875 63.9375 \r\nQ 23.390625 74.21875 37.203125 74.21875 \r\nQ 40.921875 74.21875 44.703125 73.484375 \r\nQ 48.484375 72.75 52.59375 71.296875 \r\nz\r\n\" id=\"DejaVuSans-54\"/>\r\n      </defs>\r\n      <g transform=\"translate(265.777841 324.916562)scale(0.1 -0.1)\">\r\n       <use xlink:href=\"#DejaVuSans-50\"/>\r\n       <use x=\"63.623047\" xlink:href=\"#DejaVuSans-48\"/>\r\n       <use x=\"127.246094\" xlink:href=\"#DejaVuSans-49\"/>\r\n       <use x=\"190.869141\" xlink:href=\"#DejaVuSans-54\"/>\r\n      </g>\r\n     </g>\r\n    </g>\r\n    <g id=\"xtick_4\">\r\n     <g id=\"line2d_7\">\r\n      <path clip-path=\"url(#p9cc784e9ed)\" d=\"M 346.856088 310.318125 \r\nL 346.856088 22.318125 \r\n\" style=\"fill:none;stroke:#b0b0b0;stroke-linecap:square;stroke-width:0.8;\"/>\r\n     </g>\r\n     <g id=\"line2d_8\">\r\n      <g>\r\n       <use style=\"stroke:#000000;stroke-width:0.8;\" x=\"346.856088\" xlink:href=\"#m46311507d7\" y=\"310.318125\"/>\r\n      </g>\r\n     </g>\r\n     <g id=\"text_4\">\r\n      <!-- 2018 -->\r\n      <defs>\r\n       <path d=\"M 31.78125 34.625 \r\nQ 24.75 34.625 20.71875 30.859375 \r\nQ 16.703125 27.09375 16.703125 20.515625 \r\nQ 16.703125 13.921875 20.71875 10.15625 \r\nQ 24.75 6.390625 31.78125 6.390625 \r\nQ 38.8125 6.390625 42.859375 10.171875 \r\nQ 46.921875 13.96875 46.921875 20.515625 \r\nQ 46.921875 27.09375 42.890625 30.859375 \r\nQ 38.875 34.625 31.78125 34.625 \r\nz\r\nM 21.921875 38.8125 \r\nQ 15.578125 40.375 12.03125 44.71875 \r\nQ 8.5 49.078125 8.5 55.328125 \r\nQ 8.5 64.0625 14.71875 69.140625 \r\nQ 20.953125 74.21875 31.78125 74.21875 \r\nQ 42.671875 74.21875 48.875 69.140625 \r\nQ 55.078125 64.0625 55.078125 55.328125 \r\nQ 55.078125 49.078125 51.53125 44.71875 \r\nQ 48 40.375 41.703125 38.8125 \r\nQ 48.828125 37.15625 52.796875 32.3125 \r\nQ 56.78125 27.484375 56.78125 20.515625 \r\nQ 56.78125 9.90625 50.3125 4.234375 \r\nQ 43.84375 -1.421875 31.78125 -1.421875 \r\nQ 19.734375 -1.421875 13.25 4.234375 \r\nQ 6.78125 9.90625 6.78125 20.515625 \r\nQ 6.78125 27.484375 10.78125 32.3125 \r\nQ 14.796875 37.15625 21.921875 38.8125 \r\nz\r\nM 18.3125 54.390625 \r\nQ 18.3125 48.734375 21.84375 45.5625 \r\nQ 25.390625 42.390625 31.78125 42.390625 \r\nQ 38.140625 42.390625 41.71875 45.5625 \r\nQ 45.3125 48.734375 45.3125 54.390625 \r\nQ 45.3125 60.0625 41.71875 63.234375 \r\nQ 38.140625 66.40625 31.78125 66.40625 \r\nQ 25.390625 66.40625 21.84375 63.234375 \r\nQ 18.3125 60.0625 18.3125 54.390625 \r\nz\r\n\" id=\"DejaVuSans-56\"/>\r\n      </defs>\r\n      <g transform=\"translate(334.131088 324.916562)scale(0.1 -0.1)\">\r\n       <use xlink:href=\"#DejaVuSans-50\"/>\r\n       <use x=\"63.623047\" xlink:href=\"#DejaVuSans-48\"/>\r\n       <use x=\"127.246094\" xlink:href=\"#DejaVuSans-49\"/>\r\n       <use x=\"190.869141\" xlink:href=\"#DejaVuSans-56\"/>\r\n      </g>\r\n     </g>\r\n    </g>\r\n    <g id=\"xtick_5\">\r\n     <g id=\"line2d_9\">\r\n      <path clip-path=\"url(#p9cc784e9ed)\" d=\"M 415.115828 310.318125 \r\nL 415.115828 22.318125 \r\n\" style=\"fill:none;stroke:#b0b0b0;stroke-linecap:square;stroke-width:0.8;\"/>\r\n     </g>\r\n     <g id=\"line2d_10\">\r\n      <g>\r\n       <use style=\"stroke:#000000;stroke-width:0.8;\" x=\"415.115828\" xlink:href=\"#m46311507d7\" y=\"310.318125\"/>\r\n      </g>\r\n     </g>\r\n     <g id=\"text_5\">\r\n      <!-- 2020 -->\r\n      <g transform=\"translate(402.390828 324.916562)scale(0.1 -0.1)\">\r\n       <use xlink:href=\"#DejaVuSans-50\"/>\r\n       <use x=\"63.623047\" xlink:href=\"#DejaVuSans-48\"/>\r\n       <use x=\"127.246094\" xlink:href=\"#DejaVuSans-50\"/>\r\n       <use x=\"190.869141\" xlink:href=\"#DejaVuSans-48\"/>\r\n      </g>\r\n     </g>\r\n    </g>\r\n    <g id=\"xtick_6\">\r\n     <g id=\"line2d_11\">\r\n      <path clip-path=\"url(#p9cc784e9ed)\" d=\"M 483.469075 310.318125 \r\nL 483.469075 22.318125 \r\n\" style=\"fill:none;stroke:#b0b0b0;stroke-linecap:square;stroke-width:0.8;\"/>\r\n     </g>\r\n     <g id=\"line2d_12\">\r\n      <g>\r\n       <use style=\"stroke:#000000;stroke-width:0.8;\" x=\"483.469075\" xlink:href=\"#m46311507d7\" y=\"310.318125\"/>\r\n      </g>\r\n     </g>\r\n     <g id=\"text_6\">\r\n      <!-- 2022 -->\r\n      <g transform=\"translate(470.744075 324.916562)scale(0.1 -0.1)\">\r\n       <use xlink:href=\"#DejaVuSans-50\"/>\r\n       <use x=\"63.623047\" xlink:href=\"#DejaVuSans-48\"/>\r\n       <use x=\"127.246094\" xlink:href=\"#DejaVuSans-50\"/>\r\n       <use x=\"190.869141\" xlink:href=\"#DejaVuSans-50\"/>\r\n      </g>\r\n     </g>\r\n    </g>\r\n   </g>\r\n   <g id=\"matplotlib.axis_2\">\r\n    <g id=\"ytick_1\">\r\n     <g id=\"line2d_13\">\r\n      <path clip-path=\"url(#p9cc784e9ed)\" d=\"M 75.59375 287.861505 \r\nL 507.59375 287.861505 \r\n\" style=\"fill:none;stroke:#b0b0b0;stroke-linecap:square;stroke-width:0.8;\"/>\r\n     </g>\r\n     <g id=\"line2d_14\">\r\n      <defs>\r\n       <path d=\"M 0 0 \r\nL -3.5 0 \r\n\" id=\"m836997795e\" style=\"stroke:#000000;stroke-width:0.8;\"/>\r\n      </defs>\r\n      <g>\r\n       <use style=\"stroke:#000000;stroke-width:0.8;\" x=\"75.59375\" xlink:href=\"#m836997795e\" y=\"287.861505\"/>\r\n      </g>\r\n     </g>\r\n     <g id=\"text_7\">\r\n      <!-- $0 -->\r\n      <defs>\r\n       <path d=\"M 33.796875 -14.703125 \r\nL 28.90625 -14.703125 \r\nL 28.859375 0 \r\nQ 23.734375 0.09375 18.609375 1.1875 \r\nQ 13.484375 2.296875 8.296875 4.5 \r\nL 8.296875 13.28125 \r\nQ 13.28125 10.15625 18.375 8.5625 \r\nQ 23.484375 6.984375 28.90625 6.9375 \r\nL 28.90625 29.203125 \r\nQ 18.109375 30.953125 13.203125 35.15625 \r\nQ 8.296875 39.359375 8.296875 46.6875 \r\nQ 8.296875 54.640625 13.625 59.21875 \r\nQ 18.953125 63.8125 28.90625 64.5 \r\nL 28.90625 75.984375 \r\nL 33.796875 75.984375 \r\nL 33.796875 64.65625 \r\nQ 38.328125 64.453125 42.578125 63.6875 \r\nQ 46.828125 62.9375 50.875 61.625 \r\nL 50.875 53.078125 \r\nQ 46.828125 55.125 42.546875 56.25 \r\nQ 38.28125 57.375 33.796875 57.5625 \r\nL 33.796875 36.71875 \r\nQ 44.875 35.015625 50.09375 30.609375 \r\nQ 55.328125 26.21875 55.328125 18.609375 \r\nQ 55.328125 10.359375 49.78125 5.59375 \r\nQ 44.234375 0.828125 33.796875 0.09375 \r\nz\r\nM 28.90625 37.59375 \r\nL 28.90625 57.625 \r\nQ 23.25 56.984375 20.265625 54.390625 \r\nQ 17.28125 51.8125 17.28125 47.515625 \r\nQ 17.28125 43.3125 20.03125 40.96875 \r\nQ 22.796875 38.625 28.90625 37.59375 \r\nz\r\nM 33.796875 28.21875 \r\nL 33.796875 7.078125 \r\nQ 39.984375 7.90625 43.140625 10.59375 \r\nQ 46.296875 13.28125 46.296875 17.671875 \r\nQ 46.296875 21.96875 43.28125 24.5 \r\nQ 40.28125 27.046875 33.796875 28.21875 \r\nz\r\n\" id=\"DejaVuSans-36\"/>\r\n      </defs>\r\n      <g transform=\"translate(55.86875 291.660724)scale(0.1 -0.1)\">\r\n       <use xlink:href=\"#DejaVuSans-36\"/>\r\n       <use x=\"63.623047\" xlink:href=\"#DejaVuSans-48\"/>\r\n      </g>\r\n     </g>\r\n    </g>\r\n    <g id=\"ytick_2\">\r\n     <g id=\"line2d_15\">\r\n      <path clip-path=\"url(#p9cc784e9ed)\" d=\"M 75.59375 245.644855 \r\nL 507.59375 245.644855 \r\n\" style=\"fill:none;stroke:#b0b0b0;stroke-linecap:square;stroke-width:0.8;\"/>\r\n     </g>\r\n     <g id=\"line2d_16\">\r\n      <g>\r\n       <use style=\"stroke:#000000;stroke-width:0.8;\" x=\"75.59375\" xlink:href=\"#m836997795e\" y=\"245.644855\"/>\r\n      </g>\r\n     </g>\r\n     <g id=\"text_8\">\r\n      <!-- $1 -->\r\n      <g transform=\"translate(55.86875 249.444073)scale(0.1 -0.1)\">\r\n       <use xlink:href=\"#DejaVuSans-36\"/>\r\n       <use x=\"63.623047\" xlink:href=\"#DejaVuSans-49\"/>\r\n      </g>\r\n     </g>\r\n    </g>\r\n    <g id=\"ytick_3\">\r\n     <g id=\"line2d_17\">\r\n      <path clip-path=\"url(#p9cc784e9ed)\" d=\"M 75.59375 203.428204 \r\nL 507.59375 203.428204 \r\n\" style=\"fill:none;stroke:#b0b0b0;stroke-linecap:square;stroke-width:0.8;\"/>\r\n     </g>\r\n     <g id=\"line2d_18\">\r\n      <g>\r\n       <use style=\"stroke:#000000;stroke-width:0.8;\" x=\"75.59375\" xlink:href=\"#m836997795e\" y=\"203.428204\"/>\r\n      </g>\r\n     </g>\r\n     <g id=\"text_9\">\r\n      <!-- $10 -->\r\n      <g transform=\"translate(49.50625 207.227423)scale(0.1 -0.1)\">\r\n       <use xlink:href=\"#DejaVuSans-36\"/>\r\n       <use x=\"63.623047\" xlink:href=\"#DejaVuSans-49\"/>\r\n       <use x=\"127.246094\" xlink:href=\"#DejaVuSans-48\"/>\r\n      </g>\r\n     </g>\r\n    </g>\r\n    <g id=\"ytick_4\">\r\n     <g id=\"line2d_19\">\r\n      <path clip-path=\"url(#p9cc784e9ed)\" d=\"M 75.59375 161.211554 \r\nL 507.59375 161.211554 \r\n\" style=\"fill:none;stroke:#b0b0b0;stroke-linecap:square;stroke-width:0.8;\"/>\r\n     </g>\r\n     <g id=\"line2d_20\">\r\n      <g>\r\n       <use style=\"stroke:#000000;stroke-width:0.8;\" x=\"75.59375\" xlink:href=\"#m836997795e\" y=\"161.211554\"/>\r\n      </g>\r\n     </g>\r\n     <g id=\"text_10\">\r\n      <!-- $100 -->\r\n      <g transform=\"translate(43.14375 165.010773)scale(0.1 -0.1)\">\r\n       <use xlink:href=\"#DejaVuSans-36\"/>\r\n       <use x=\"63.623047\" xlink:href=\"#DejaVuSans-49\"/>\r\n       <use x=\"127.246094\" xlink:href=\"#DejaVuSans-48\"/>\r\n       <use x=\"190.869141\" xlink:href=\"#DejaVuSans-48\"/>\r\n      </g>\r\n     </g>\r\n    </g>\r\n    <g id=\"ytick_5\">\r\n     <g id=\"line2d_21\">\r\n      <path clip-path=\"url(#p9cc784e9ed)\" d=\"M 75.59375 118.994904 \r\nL 507.59375 118.994904 \r\n\" style=\"fill:none;stroke:#b0b0b0;stroke-linecap:square;stroke-width:0.8;\"/>\r\n     </g>\r\n     <g id=\"line2d_22\">\r\n      <g>\r\n       <use style=\"stroke:#000000;stroke-width:0.8;\" x=\"75.59375\" xlink:href=\"#m836997795e\" y=\"118.994904\"/>\r\n      </g>\r\n     </g>\r\n     <g id=\"text_11\">\r\n      <!-- $1,000 -->\r\n      <defs>\r\n       <path d=\"M 11.71875 12.40625 \r\nL 22.015625 12.40625 \r\nL 22.015625 4 \r\nL 14.015625 -11.625 \r\nL 7.71875 -11.625 \r\nL 11.71875 4 \r\nz\r\n\" id=\"DejaVuSans-44\"/>\r\n      </defs>\r\n      <g transform=\"translate(33.603125 122.794123)scale(0.1 -0.1)\">\r\n       <use xlink:href=\"#DejaVuSans-36\"/>\r\n       <use x=\"63.623047\" xlink:href=\"#DejaVuSans-49\"/>\r\n       <use x=\"127.246094\" xlink:href=\"#DejaVuSans-44\"/>\r\n       <use x=\"159.033203\" xlink:href=\"#DejaVuSans-48\"/>\r\n       <use x=\"222.65625\" xlink:href=\"#DejaVuSans-48\"/>\r\n       <use x=\"286.279297\" xlink:href=\"#DejaVuSans-48\"/>\r\n      </g>\r\n     </g>\r\n    </g>\r\n    <g id=\"ytick_6\">\r\n     <g id=\"line2d_23\">\r\n      <path clip-path=\"url(#p9cc784e9ed)\" d=\"M 75.59375 76.778254 \r\nL 507.59375 76.778254 \r\n\" style=\"fill:none;stroke:#b0b0b0;stroke-linecap:square;stroke-width:0.8;\"/>\r\n     </g>\r\n     <g id=\"line2d_24\">\r\n      <g>\r\n       <use style=\"stroke:#000000;stroke-width:0.8;\" x=\"75.59375\" xlink:href=\"#m836997795e\" y=\"76.778254\"/>\r\n      </g>\r\n     </g>\r\n     <g id=\"text_12\">\r\n      <!-- $10,000 -->\r\n      <g transform=\"translate(27.240625 80.577472)scale(0.1 -0.1)\">\r\n       <use xlink:href=\"#DejaVuSans-36\"/>\r\n       <use x=\"63.623047\" xlink:href=\"#DejaVuSans-49\"/>\r\n       <use x=\"127.246094\" xlink:href=\"#DejaVuSans-48\"/>\r\n       <use x=\"190.869141\" xlink:href=\"#DejaVuSans-44\"/>\r\n       <use x=\"222.65625\" xlink:href=\"#DejaVuSans-48\"/>\r\n       <use x=\"286.279297\" xlink:href=\"#DejaVuSans-48\"/>\r\n       <use x=\"349.902344\" xlink:href=\"#DejaVuSans-48\"/>\r\n      </g>\r\n     </g>\r\n    </g>\r\n    <g id=\"ytick_7\">\r\n     <g id=\"line2d_25\">\r\n      <path clip-path=\"url(#p9cc784e9ed)\" d=\"M 75.59375 34.561603 \r\nL 507.59375 34.561603 \r\n\" style=\"fill:none;stroke:#b0b0b0;stroke-linecap:square;stroke-width:0.8;\"/>\r\n     </g>\r\n     <g id=\"line2d_26\">\r\n      <g>\r\n       <use style=\"stroke:#000000;stroke-width:0.8;\" x=\"75.59375\" xlink:href=\"#m836997795e\" y=\"34.561603\"/>\r\n      </g>\r\n     </g>\r\n     <g id=\"text_13\">\r\n      <!-- $100,000 -->\r\n      <g transform=\"translate(20.878125 38.360822)scale(0.1 -0.1)\">\r\n       <use xlink:href=\"#DejaVuSans-36\"/>\r\n       <use x=\"63.623047\" xlink:href=\"#DejaVuSans-49\"/>\r\n       <use x=\"127.246094\" xlink:href=\"#DejaVuSans-48\"/>\r\n       <use x=\"190.869141\" xlink:href=\"#DejaVuSans-48\"/>\r\n       <use x=\"254.492188\" xlink:href=\"#DejaVuSans-44\"/>\r\n       <use x=\"286.279297\" xlink:href=\"#DejaVuSans-48\"/>\r\n       <use x=\"349.902344\" xlink:href=\"#DejaVuSans-48\"/>\r\n       <use x=\"413.525391\" xlink:href=\"#DejaVuSans-48\"/>\r\n      </g>\r\n     </g>\r\n    </g>\r\n    <g id=\"ytick_8\">\r\n     <g id=\"line2d_27\">\r\n      <path clip-path=\"url(#p9cc784e9ed)\" d=\"M 75.59375 309.935694 \r\nL 507.59375 309.935694 \r\n\" style=\"fill:none;stroke:#b0b0b0;stroke-linecap:square;stroke-width:0.8;\"/>\r\n     </g>\r\n     <g id=\"line2d_28\">\r\n      <defs>\r\n       <path d=\"M 0 0 \r\nL -2 0 \r\n\" id=\"mead7fdb31e\" style=\"stroke:#000000;stroke-width:0.6;\"/>\r\n      </defs>\r\n      <g>\r\n       <use style=\"stroke:#000000;stroke-width:0.6;\" x=\"75.59375\" xlink:href=\"#mead7fdb31e\" y=\"309.935694\"/>\r\n      </g>\r\n     </g>\r\n    </g>\r\n    <g id=\"ytick_9\">\r\n     <g id=\"line2d_29\">\r\n      <path clip-path=\"url(#p9cc784e9ed)\" d=\"M 75.59375 304.661199 \r\nL 507.59375 304.661199 \r\n\" style=\"fill:none;stroke:#b0b0b0;stroke-linecap:square;stroke-width:0.8;\"/>\r\n     </g>\r\n     <g id=\"line2d_30\">\r\n      <g>\r\n       <use style=\"stroke:#000000;stroke-width:0.6;\" x=\"75.59375\" xlink:href=\"#mead7fdb31e\" y=\"304.661199\"/>\r\n      </g>\r\n     </g>\r\n    </g>\r\n    <g id=\"ytick_10\">\r\n     <g id=\"line2d_31\">\r\n      <path clip-path=\"url(#p9cc784e9ed)\" d=\"M 75.59375 300.569983 \r\nL 507.59375 300.569983 \r\n\" style=\"fill:none;stroke:#b0b0b0;stroke-linecap:square;stroke-width:0.8;\"/>\r\n     </g>\r\n     <g id=\"line2d_32\">\r\n      <g>\r\n       <use style=\"stroke:#000000;stroke-width:0.6;\" x=\"75.59375\" xlink:href=\"#mead7fdb31e\" y=\"300.569983\"/>\r\n      </g>\r\n     </g>\r\n    </g>\r\n    <g id=\"ytick_11\">\r\n     <g id=\"line2d_33\">\r\n      <path clip-path=\"url(#p9cc784e9ed)\" d=\"M 75.59375 297.227216 \r\nL 507.59375 297.227216 \r\n\" style=\"fill:none;stroke:#b0b0b0;stroke-linecap:square;stroke-width:0.8;\"/>\r\n     </g>\r\n     <g id=\"line2d_34\">\r\n      <g>\r\n       <use style=\"stroke:#000000;stroke-width:0.6;\" x=\"75.59375\" xlink:href=\"#mead7fdb31e\" y=\"297.227216\"/>\r\n      </g>\r\n     </g>\r\n    </g>\r\n    <g id=\"ytick_12\">\r\n     <g id=\"line2d_35\">\r\n      <path clip-path=\"url(#p9cc784e9ed)\" d=\"M 75.59375 294.400947 \r\nL 507.59375 294.400947 \r\n\" style=\"fill:none;stroke:#b0b0b0;stroke-linecap:square;stroke-width:0.8;\"/>\r\n     </g>\r\n     <g id=\"line2d_36\">\r\n      <g>\r\n       <use style=\"stroke:#000000;stroke-width:0.6;\" x=\"75.59375\" xlink:href=\"#mead7fdb31e\" y=\"294.400947\"/>\r\n      </g>\r\n     </g>\r\n    </g>\r\n    <g id=\"ytick_13\">\r\n     <g id=\"line2d_37\">\r\n      <path clip-path=\"url(#p9cc784e9ed)\" d=\"M 75.59375 291.952721 \r\nL 507.59375 291.952721 \r\n\" style=\"fill:none;stroke:#b0b0b0;stroke-linecap:square;stroke-width:0.8;\"/>\r\n     </g>\r\n     <g id=\"line2d_38\">\r\n      <g>\r\n       <use style=\"stroke:#000000;stroke-width:0.6;\" x=\"75.59375\" xlink:href=\"#mead7fdb31e\" y=\"291.952721\"/>\r\n      </g>\r\n     </g>\r\n    </g>\r\n    <g id=\"ytick_14\">\r\n     <g id=\"line2d_39\">\r\n      <path clip-path=\"url(#p9cc784e9ed)\" d=\"M 75.59375 289.793233 \r\nL 507.59375 289.793233 \r\n\" style=\"fill:none;stroke:#b0b0b0;stroke-linecap:square;stroke-width:0.8;\"/>\r\n     </g>\r\n     <g id=\"line2d_40\">\r\n      <g>\r\n       <use style=\"stroke:#000000;stroke-width:0.6;\" x=\"75.59375\" xlink:href=\"#mead7fdb31e\" y=\"289.793233\"/>\r\n      </g>\r\n     </g>\r\n    </g>\r\n    <g id=\"ytick_15\">\r\n     <g id=\"line2d_41\">\r\n      <path clip-path=\"url(#p9cc784e9ed)\" d=\"M 75.59375 275.153027 \r\nL 507.59375 275.153027 \r\n\" style=\"fill:none;stroke:#b0b0b0;stroke-linecap:square;stroke-width:0.8;\"/>\r\n     </g>\r\n     <g id=\"line2d_42\">\r\n      <g>\r\n       <use style=\"stroke:#000000;stroke-width:0.6;\" x=\"75.59375\" xlink:href=\"#mead7fdb31e\" y=\"275.153027\"/>\r\n      </g>\r\n     </g>\r\n    </g>\r\n    <g id=\"ytick_16\">\r\n     <g id=\"line2d_43\">\r\n      <path clip-path=\"url(#p9cc784e9ed)\" d=\"M 75.59375 267.719044 \r\nL 507.59375 267.719044 \r\n\" style=\"fill:none;stroke:#b0b0b0;stroke-linecap:square;stroke-width:0.8;\"/>\r\n     </g>\r\n     <g id=\"line2d_44\">\r\n      <g>\r\n       <use style=\"stroke:#000000;stroke-width:0.6;\" x=\"75.59375\" xlink:href=\"#mead7fdb31e\" y=\"267.719044\"/>\r\n      </g>\r\n     </g>\r\n    </g>\r\n    <g id=\"ytick_17\">\r\n     <g id=\"line2d_45\">\r\n      <path clip-path=\"url(#p9cc784e9ed)\" d=\"M 75.59375 262.444549 \r\nL 507.59375 262.444549 \r\n\" style=\"fill:none;stroke:#b0b0b0;stroke-linecap:square;stroke-width:0.8;\"/>\r\n     </g>\r\n     <g id=\"line2d_46\">\r\n      <g>\r\n       <use style=\"stroke:#000000;stroke-width:0.6;\" x=\"75.59375\" xlink:href=\"#mead7fdb31e\" y=\"262.444549\"/>\r\n      </g>\r\n     </g>\r\n    </g>\r\n    <g id=\"ytick_18\">\r\n     <g id=\"line2d_47\">\r\n      <path clip-path=\"url(#p9cc784e9ed)\" d=\"M 75.59375 258.353333 \r\nL 507.59375 258.353333 \r\n\" style=\"fill:none;stroke:#b0b0b0;stroke-linecap:square;stroke-width:0.8;\"/>\r\n     </g>\r\n     <g id=\"line2d_48\">\r\n      <g>\r\n       <use style=\"stroke:#000000;stroke-width:0.6;\" x=\"75.59375\" xlink:href=\"#mead7fdb31e\" y=\"258.353333\"/>\r\n      </g>\r\n     </g>\r\n    </g>\r\n    <g id=\"ytick_19\">\r\n     <g id=\"line2d_49\">\r\n      <path clip-path=\"url(#p9cc784e9ed)\" d=\"M 75.59375 255.010566 \r\nL 507.59375 255.010566 \r\n\" style=\"fill:none;stroke:#b0b0b0;stroke-linecap:square;stroke-width:0.8;\"/>\r\n     </g>\r\n     <g id=\"line2d_50\">\r\n      <g>\r\n       <use style=\"stroke:#000000;stroke-width:0.6;\" x=\"75.59375\" xlink:href=\"#mead7fdb31e\" y=\"255.010566\"/>\r\n      </g>\r\n     </g>\r\n    </g>\r\n    <g id=\"ytick_20\">\r\n     <g id=\"line2d_51\">\r\n      <path clip-path=\"url(#p9cc784e9ed)\" d=\"M 75.59375 252.184296 \r\nL 507.59375 252.184296 \r\n\" style=\"fill:none;stroke:#b0b0b0;stroke-linecap:square;stroke-width:0.8;\"/>\r\n     </g>\r\n     <g id=\"line2d_52\">\r\n      <g>\r\n       <use style=\"stroke:#000000;stroke-width:0.6;\" x=\"75.59375\" xlink:href=\"#mead7fdb31e\" y=\"252.184296\"/>\r\n      </g>\r\n     </g>\r\n    </g>\r\n    <g id=\"ytick_21\">\r\n     <g id=\"line2d_53\">\r\n      <path clip-path=\"url(#p9cc784e9ed)\" d=\"M 75.59375 249.736071 \r\nL 507.59375 249.736071 \r\n\" style=\"fill:none;stroke:#b0b0b0;stroke-linecap:square;stroke-width:0.8;\"/>\r\n     </g>\r\n     <g id=\"line2d_54\">\r\n      <g>\r\n       <use style=\"stroke:#000000;stroke-width:0.6;\" x=\"75.59375\" xlink:href=\"#mead7fdb31e\" y=\"249.736071\"/>\r\n      </g>\r\n     </g>\r\n    </g>\r\n    <g id=\"ytick_22\">\r\n     <g id=\"line2d_55\">\r\n      <path clip-path=\"url(#p9cc784e9ed)\" d=\"M 75.59375 247.576583 \r\nL 507.59375 247.576583 \r\n\" style=\"fill:none;stroke:#b0b0b0;stroke-linecap:square;stroke-width:0.8;\"/>\r\n     </g>\r\n     <g id=\"line2d_56\">\r\n      <g>\r\n       <use style=\"stroke:#000000;stroke-width:0.6;\" x=\"75.59375\" xlink:href=\"#mead7fdb31e\" y=\"247.576583\"/>\r\n      </g>\r\n     </g>\r\n    </g>\r\n    <g id=\"ytick_23\">\r\n     <g id=\"line2d_57\">\r\n      <path clip-path=\"url(#p9cc784e9ed)\" d=\"M 75.59375 232.936377 \r\nL 507.59375 232.936377 \r\n\" style=\"fill:none;stroke:#b0b0b0;stroke-linecap:square;stroke-width:0.8;\"/>\r\n     </g>\r\n     <g id=\"line2d_58\">\r\n      <g>\r\n       <use style=\"stroke:#000000;stroke-width:0.6;\" x=\"75.59375\" xlink:href=\"#mead7fdb31e\" y=\"232.936377\"/>\r\n      </g>\r\n     </g>\r\n    </g>\r\n    <g id=\"ytick_24\">\r\n     <g id=\"line2d_59\">\r\n      <path clip-path=\"url(#p9cc784e9ed)\" d=\"M 75.59375 225.502393 \r\nL 507.59375 225.502393 \r\n\" style=\"fill:none;stroke:#b0b0b0;stroke-linecap:square;stroke-width:0.8;\"/>\r\n     </g>\r\n     <g id=\"line2d_60\">\r\n      <g>\r\n       <use style=\"stroke:#000000;stroke-width:0.6;\" x=\"75.59375\" xlink:href=\"#mead7fdb31e\" y=\"225.502393\"/>\r\n      </g>\r\n     </g>\r\n    </g>\r\n    <g id=\"ytick_25\">\r\n     <g id=\"line2d_61\">\r\n      <path clip-path=\"url(#p9cc784e9ed)\" d=\"M 75.59375 220.227899 \r\nL 507.59375 220.227899 \r\n\" style=\"fill:none;stroke:#b0b0b0;stroke-linecap:square;stroke-width:0.8;\"/>\r\n     </g>\r\n     <g id=\"line2d_62\">\r\n      <g>\r\n       <use style=\"stroke:#000000;stroke-width:0.6;\" x=\"75.59375\" xlink:href=\"#mead7fdb31e\" y=\"220.227899\"/>\r\n      </g>\r\n     </g>\r\n    </g>\r\n    <g id=\"ytick_26\">\r\n     <g id=\"line2d_63\">\r\n      <path clip-path=\"url(#p9cc784e9ed)\" d=\"M 75.59375 216.136682 \r\nL 507.59375 216.136682 \r\n\" style=\"fill:none;stroke:#b0b0b0;stroke-linecap:square;stroke-width:0.8;\"/>\r\n     </g>\r\n     <g id=\"line2d_64\">\r\n      <g>\r\n       <use style=\"stroke:#000000;stroke-width:0.6;\" x=\"75.59375\" xlink:href=\"#mead7fdb31e\" y=\"216.136682\"/>\r\n      </g>\r\n     </g>\r\n    </g>\r\n    <g id=\"ytick_27\">\r\n     <g id=\"line2d_65\">\r\n      <path clip-path=\"url(#p9cc784e9ed)\" d=\"M 75.59375 212.793915 \r\nL 507.59375 212.793915 \r\n\" style=\"fill:none;stroke:#b0b0b0;stroke-linecap:square;stroke-width:0.8;\"/>\r\n     </g>\r\n     <g id=\"line2d_66\">\r\n      <g>\r\n       <use style=\"stroke:#000000;stroke-width:0.6;\" x=\"75.59375\" xlink:href=\"#mead7fdb31e\" y=\"212.793915\"/>\r\n      </g>\r\n     </g>\r\n    </g>\r\n    <g id=\"ytick_28\">\r\n     <g id=\"line2d_67\">\r\n      <path clip-path=\"url(#p9cc784e9ed)\" d=\"M 75.59375 209.967646 \r\nL 507.59375 209.967646 \r\n\" style=\"fill:none;stroke:#b0b0b0;stroke-linecap:square;stroke-width:0.8;\"/>\r\n     </g>\r\n     <g id=\"line2d_68\">\r\n      <g>\r\n       <use style=\"stroke:#000000;stroke-width:0.6;\" x=\"75.59375\" xlink:href=\"#mead7fdb31e\" y=\"209.967646\"/>\r\n      </g>\r\n     </g>\r\n    </g>\r\n    <g id=\"ytick_29\">\r\n     <g id=\"line2d_69\">\r\n      <path clip-path=\"url(#p9cc784e9ed)\" d=\"M 75.59375 207.519421 \r\nL 507.59375 207.519421 \r\n\" style=\"fill:none;stroke:#b0b0b0;stroke-linecap:square;stroke-width:0.8;\"/>\r\n     </g>\r\n     <g id=\"line2d_70\">\r\n      <g>\r\n       <use style=\"stroke:#000000;stroke-width:0.6;\" x=\"75.59375\" xlink:href=\"#mead7fdb31e\" y=\"207.519421\"/>\r\n      </g>\r\n     </g>\r\n    </g>\r\n    <g id=\"ytick_30\">\r\n     <g id=\"line2d_71\">\r\n      <path clip-path=\"url(#p9cc784e9ed)\" d=\"M 75.59375 205.359932 \r\nL 507.59375 205.359932 \r\n\" style=\"fill:none;stroke:#b0b0b0;stroke-linecap:square;stroke-width:0.8;\"/>\r\n     </g>\r\n     <g id=\"line2d_72\">\r\n      <g>\r\n       <use style=\"stroke:#000000;stroke-width:0.6;\" x=\"75.59375\" xlink:href=\"#mead7fdb31e\" y=\"205.359932\"/>\r\n      </g>\r\n     </g>\r\n    </g>\r\n    <g id=\"ytick_31\">\r\n     <g id=\"line2d_73\">\r\n      <path clip-path=\"url(#p9cc784e9ed)\" d=\"M 75.59375 190.719726 \r\nL 507.59375 190.719726 \r\n\" style=\"fill:none;stroke:#b0b0b0;stroke-linecap:square;stroke-width:0.8;\"/>\r\n     </g>\r\n     <g id=\"line2d_74\">\r\n      <g>\r\n       <use style=\"stroke:#000000;stroke-width:0.6;\" x=\"75.59375\" xlink:href=\"#mead7fdb31e\" y=\"190.719726\"/>\r\n      </g>\r\n     </g>\r\n    </g>\r\n    <g id=\"ytick_32\">\r\n     <g id=\"line2d_75\">\r\n      <path clip-path=\"url(#p9cc784e9ed)\" d=\"M 75.59375 183.285743 \r\nL 507.59375 183.285743 \r\n\" style=\"fill:none;stroke:#b0b0b0;stroke-linecap:square;stroke-width:0.8;\"/>\r\n     </g>\r\n     <g id=\"line2d_76\">\r\n      <g>\r\n       <use style=\"stroke:#000000;stroke-width:0.6;\" x=\"75.59375\" xlink:href=\"#mead7fdb31e\" y=\"183.285743\"/>\r\n      </g>\r\n     </g>\r\n    </g>\r\n    <g id=\"ytick_33\">\r\n     <g id=\"line2d_77\">\r\n      <path clip-path=\"url(#p9cc784e9ed)\" d=\"M 75.59375 178.011248 \r\nL 507.59375 178.011248 \r\n\" style=\"fill:none;stroke:#b0b0b0;stroke-linecap:square;stroke-width:0.8;\"/>\r\n     </g>\r\n     <g id=\"line2d_78\">\r\n      <g>\r\n       <use style=\"stroke:#000000;stroke-width:0.6;\" x=\"75.59375\" xlink:href=\"#mead7fdb31e\" y=\"178.011248\"/>\r\n      </g>\r\n     </g>\r\n    </g>\r\n    <g id=\"ytick_34\">\r\n     <g id=\"line2d_79\">\r\n      <path clip-path=\"url(#p9cc784e9ed)\" d=\"M 75.59375 173.920032 \r\nL 507.59375 173.920032 \r\n\" style=\"fill:none;stroke:#b0b0b0;stroke-linecap:square;stroke-width:0.8;\"/>\r\n     </g>\r\n     <g id=\"line2d_80\">\r\n      <g>\r\n       <use style=\"stroke:#000000;stroke-width:0.6;\" x=\"75.59375\" xlink:href=\"#mead7fdb31e\" y=\"173.920032\"/>\r\n      </g>\r\n     </g>\r\n    </g>\r\n    <g id=\"ytick_35\">\r\n     <g id=\"line2d_81\">\r\n      <path clip-path=\"url(#p9cc784e9ed)\" d=\"M 75.59375 170.577265 \r\nL 507.59375 170.577265 \r\n\" style=\"fill:none;stroke:#b0b0b0;stroke-linecap:square;stroke-width:0.8;\"/>\r\n     </g>\r\n     <g id=\"line2d_82\">\r\n      <g>\r\n       <use style=\"stroke:#000000;stroke-width:0.6;\" x=\"75.59375\" xlink:href=\"#mead7fdb31e\" y=\"170.577265\"/>\r\n      </g>\r\n     </g>\r\n    </g>\r\n    <g id=\"ytick_36\">\r\n     <g id=\"line2d_83\">\r\n      <path clip-path=\"url(#p9cc784e9ed)\" d=\"M 75.59375 167.750996 \r\nL 507.59375 167.750996 \r\n\" style=\"fill:none;stroke:#b0b0b0;stroke-linecap:square;stroke-width:0.8;\"/>\r\n     </g>\r\n     <g id=\"line2d_84\">\r\n      <g>\r\n       <use style=\"stroke:#000000;stroke-width:0.6;\" x=\"75.59375\" xlink:href=\"#mead7fdb31e\" y=\"167.750996\"/>\r\n      </g>\r\n     </g>\r\n    </g>\r\n    <g id=\"ytick_37\">\r\n     <g id=\"line2d_85\">\r\n      <path clip-path=\"url(#p9cc784e9ed)\" d=\"M 75.59375 165.30277 \r\nL 507.59375 165.30277 \r\n\" style=\"fill:none;stroke:#b0b0b0;stroke-linecap:square;stroke-width:0.8;\"/>\r\n     </g>\r\n     <g id=\"line2d_86\">\r\n      <g>\r\n       <use style=\"stroke:#000000;stroke-width:0.6;\" x=\"75.59375\" xlink:href=\"#mead7fdb31e\" y=\"165.30277\"/>\r\n      </g>\r\n     </g>\r\n    </g>\r\n    <g id=\"ytick_38\">\r\n     <g id=\"line2d_87\">\r\n      <path clip-path=\"url(#p9cc784e9ed)\" d=\"M 75.59375 163.143282 \r\nL 507.59375 163.143282 \r\n\" style=\"fill:none;stroke:#b0b0b0;stroke-linecap:square;stroke-width:0.8;\"/>\r\n     </g>\r\n     <g id=\"line2d_88\">\r\n      <g>\r\n       <use style=\"stroke:#000000;stroke-width:0.6;\" x=\"75.59375\" xlink:href=\"#mead7fdb31e\" y=\"163.143282\"/>\r\n      </g>\r\n     </g>\r\n    </g>\r\n    <g id=\"ytick_39\">\r\n     <g id=\"line2d_89\">\r\n      <path clip-path=\"url(#p9cc784e9ed)\" d=\"M 75.59375 148.503076 \r\nL 507.59375 148.503076 \r\n\" style=\"fill:none;stroke:#b0b0b0;stroke-linecap:square;stroke-width:0.8;\"/>\r\n     </g>\r\n     <g id=\"line2d_90\">\r\n      <g>\r\n       <use style=\"stroke:#000000;stroke-width:0.6;\" x=\"75.59375\" xlink:href=\"#mead7fdb31e\" y=\"148.503076\"/>\r\n      </g>\r\n     </g>\r\n    </g>\r\n    <g id=\"ytick_40\">\r\n     <g id=\"line2d_91\">\r\n      <path clip-path=\"url(#p9cc784e9ed)\" d=\"M 75.59375 141.069093 \r\nL 507.59375 141.069093 \r\n\" style=\"fill:none;stroke:#b0b0b0;stroke-linecap:square;stroke-width:0.8;\"/>\r\n     </g>\r\n     <g id=\"line2d_92\">\r\n      <g>\r\n       <use style=\"stroke:#000000;stroke-width:0.6;\" x=\"75.59375\" xlink:href=\"#mead7fdb31e\" y=\"141.069093\"/>\r\n      </g>\r\n     </g>\r\n    </g>\r\n    <g id=\"ytick_41\">\r\n     <g id=\"line2d_93\">\r\n      <path clip-path=\"url(#p9cc784e9ed)\" d=\"M 75.59375 135.794598 \r\nL 507.59375 135.794598 \r\n\" style=\"fill:none;stroke:#b0b0b0;stroke-linecap:square;stroke-width:0.8;\"/>\r\n     </g>\r\n     <g id=\"line2d_94\">\r\n      <g>\r\n       <use style=\"stroke:#000000;stroke-width:0.6;\" x=\"75.59375\" xlink:href=\"#mead7fdb31e\" y=\"135.794598\"/>\r\n      </g>\r\n     </g>\r\n    </g>\r\n    <g id=\"ytick_42\">\r\n     <g id=\"line2d_95\">\r\n      <path clip-path=\"url(#p9cc784e9ed)\" d=\"M 75.59375 131.703382 \r\nL 507.59375 131.703382 \r\n\" style=\"fill:none;stroke:#b0b0b0;stroke-linecap:square;stroke-width:0.8;\"/>\r\n     </g>\r\n     <g id=\"line2d_96\">\r\n      <g>\r\n       <use style=\"stroke:#000000;stroke-width:0.6;\" x=\"75.59375\" xlink:href=\"#mead7fdb31e\" y=\"131.703382\"/>\r\n      </g>\r\n     </g>\r\n    </g>\r\n    <g id=\"ytick_43\">\r\n     <g id=\"line2d_97\">\r\n      <path clip-path=\"url(#p9cc784e9ed)\" d=\"M 75.59375 128.360615 \r\nL 507.59375 128.360615 \r\n\" style=\"fill:none;stroke:#b0b0b0;stroke-linecap:square;stroke-width:0.8;\"/>\r\n     </g>\r\n     <g id=\"line2d_98\">\r\n      <g>\r\n       <use style=\"stroke:#000000;stroke-width:0.6;\" x=\"75.59375\" xlink:href=\"#mead7fdb31e\" y=\"128.360615\"/>\r\n      </g>\r\n     </g>\r\n    </g>\r\n    <g id=\"ytick_44\">\r\n     <g id=\"line2d_99\">\r\n      <path clip-path=\"url(#p9cc784e9ed)\" d=\"M 75.59375 125.534346 \r\nL 507.59375 125.534346 \r\n\" style=\"fill:none;stroke:#b0b0b0;stroke-linecap:square;stroke-width:0.8;\"/>\r\n     </g>\r\n     <g id=\"line2d_100\">\r\n      <g>\r\n       <use style=\"stroke:#000000;stroke-width:0.6;\" x=\"75.59375\" xlink:href=\"#mead7fdb31e\" y=\"125.534346\"/>\r\n      </g>\r\n     </g>\r\n    </g>\r\n    <g id=\"ytick_45\">\r\n     <g id=\"line2d_101\">\r\n      <path clip-path=\"url(#p9cc784e9ed)\" d=\"M 75.59375 123.08612 \r\nL 507.59375 123.08612 \r\n\" style=\"fill:none;stroke:#b0b0b0;stroke-linecap:square;stroke-width:0.8;\"/>\r\n     </g>\r\n     <g id=\"line2d_102\">\r\n      <g>\r\n       <use style=\"stroke:#000000;stroke-width:0.6;\" x=\"75.59375\" xlink:href=\"#mead7fdb31e\" y=\"123.08612\"/>\r\n      </g>\r\n     </g>\r\n    </g>\r\n    <g id=\"ytick_46\">\r\n     <g id=\"line2d_103\">\r\n      <path clip-path=\"url(#p9cc784e9ed)\" d=\"M 75.59375 120.926632 \r\nL 507.59375 120.926632 \r\n\" style=\"fill:none;stroke:#b0b0b0;stroke-linecap:square;stroke-width:0.8;\"/>\r\n     </g>\r\n     <g id=\"line2d_104\">\r\n      <g>\r\n       <use style=\"stroke:#000000;stroke-width:0.6;\" x=\"75.59375\" xlink:href=\"#mead7fdb31e\" y=\"120.926632\"/>\r\n      </g>\r\n     </g>\r\n    </g>\r\n    <g id=\"ytick_47\">\r\n     <g id=\"line2d_105\">\r\n      <path clip-path=\"url(#p9cc784e9ed)\" d=\"M 75.59375 106.286426 \r\nL 507.59375 106.286426 \r\n\" style=\"fill:none;stroke:#b0b0b0;stroke-linecap:square;stroke-width:0.8;\"/>\r\n     </g>\r\n     <g id=\"line2d_106\">\r\n      <g>\r\n       <use style=\"stroke:#000000;stroke-width:0.6;\" x=\"75.59375\" xlink:href=\"#mead7fdb31e\" y=\"106.286426\"/>\r\n      </g>\r\n     </g>\r\n    </g>\r\n    <g id=\"ytick_48\">\r\n     <g id=\"line2d_107\">\r\n      <path clip-path=\"url(#p9cc784e9ed)\" d=\"M 75.59375 98.852443 \r\nL 507.59375 98.852443 \r\n\" style=\"fill:none;stroke:#b0b0b0;stroke-linecap:square;stroke-width:0.8;\"/>\r\n     </g>\r\n     <g id=\"line2d_108\">\r\n      <g>\r\n       <use style=\"stroke:#000000;stroke-width:0.6;\" x=\"75.59375\" xlink:href=\"#mead7fdb31e\" y=\"98.852443\"/>\r\n      </g>\r\n     </g>\r\n    </g>\r\n    <g id=\"ytick_49\">\r\n     <g id=\"line2d_109\">\r\n      <path clip-path=\"url(#p9cc784e9ed)\" d=\"M 75.59375 93.577948 \r\nL 507.59375 93.577948 \r\n\" style=\"fill:none;stroke:#b0b0b0;stroke-linecap:square;stroke-width:0.8;\"/>\r\n     </g>\r\n     <g id=\"line2d_110\">\r\n      <g>\r\n       <use style=\"stroke:#000000;stroke-width:0.6;\" x=\"75.59375\" xlink:href=\"#mead7fdb31e\" y=\"93.577948\"/>\r\n      </g>\r\n     </g>\r\n    </g>\r\n    <g id=\"ytick_50\">\r\n     <g id=\"line2d_111\">\r\n      <path clip-path=\"url(#p9cc784e9ed)\" d=\"M 75.59375 89.486732 \r\nL 507.59375 89.486732 \r\n\" style=\"fill:none;stroke:#b0b0b0;stroke-linecap:square;stroke-width:0.8;\"/>\r\n     </g>\r\n     <g id=\"line2d_112\">\r\n      <g>\r\n       <use style=\"stroke:#000000;stroke-width:0.6;\" x=\"75.59375\" xlink:href=\"#mead7fdb31e\" y=\"89.486732\"/>\r\n      </g>\r\n     </g>\r\n    </g>\r\n    <g id=\"ytick_51\">\r\n     <g id=\"line2d_113\">\r\n      <path clip-path=\"url(#p9cc784e9ed)\" d=\"M 75.59375 86.143965 \r\nL 507.59375 86.143965 \r\n\" style=\"fill:none;stroke:#b0b0b0;stroke-linecap:square;stroke-width:0.8;\"/>\r\n     </g>\r\n     <g id=\"line2d_114\">\r\n      <g>\r\n       <use style=\"stroke:#000000;stroke-width:0.6;\" x=\"75.59375\" xlink:href=\"#mead7fdb31e\" y=\"86.143965\"/>\r\n      </g>\r\n     </g>\r\n    </g>\r\n    <g id=\"ytick_52\">\r\n     <g id=\"line2d_115\">\r\n      <path clip-path=\"url(#p9cc784e9ed)\" d=\"M 75.59375 83.317696 \r\nL 507.59375 83.317696 \r\n\" style=\"fill:none;stroke:#b0b0b0;stroke-linecap:square;stroke-width:0.8;\"/>\r\n     </g>\r\n     <g id=\"line2d_116\">\r\n      <g>\r\n       <use style=\"stroke:#000000;stroke-width:0.6;\" x=\"75.59375\" xlink:href=\"#mead7fdb31e\" y=\"83.317696\"/>\r\n      </g>\r\n     </g>\r\n    </g>\r\n    <g id=\"ytick_53\">\r\n     <g id=\"line2d_117\">\r\n      <path clip-path=\"url(#p9cc784e9ed)\" d=\"M 75.59375 80.86947 \r\nL 507.59375 80.86947 \r\n\" style=\"fill:none;stroke:#b0b0b0;stroke-linecap:square;stroke-width:0.8;\"/>\r\n     </g>\r\n     <g id=\"line2d_118\">\r\n      <g>\r\n       <use style=\"stroke:#000000;stroke-width:0.6;\" x=\"75.59375\" xlink:href=\"#mead7fdb31e\" y=\"80.86947\"/>\r\n      </g>\r\n     </g>\r\n    </g>\r\n    <g id=\"ytick_54\">\r\n     <g id=\"line2d_119\">\r\n      <path clip-path=\"url(#p9cc784e9ed)\" d=\"M 75.59375 78.709982 \r\nL 507.59375 78.709982 \r\n\" style=\"fill:none;stroke:#b0b0b0;stroke-linecap:square;stroke-width:0.8;\"/>\r\n     </g>\r\n     <g id=\"line2d_120\">\r\n      <g>\r\n       <use style=\"stroke:#000000;stroke-width:0.6;\" x=\"75.59375\" xlink:href=\"#mead7fdb31e\" y=\"78.709982\"/>\r\n      </g>\r\n     </g>\r\n    </g>\r\n    <g id=\"ytick_55\">\r\n     <g id=\"line2d_121\">\r\n      <path clip-path=\"url(#p9cc784e9ed)\" d=\"M 75.59375 64.069776 \r\nL 507.59375 64.069776 \r\n\" style=\"fill:none;stroke:#b0b0b0;stroke-linecap:square;stroke-width:0.8;\"/>\r\n     </g>\r\n     <g id=\"line2d_122\">\r\n      <g>\r\n       <use style=\"stroke:#000000;stroke-width:0.6;\" x=\"75.59375\" xlink:href=\"#mead7fdb31e\" y=\"64.069776\"/>\r\n      </g>\r\n     </g>\r\n    </g>\r\n    <g id=\"ytick_56\">\r\n     <g id=\"line2d_123\">\r\n      <path clip-path=\"url(#p9cc784e9ed)\" d=\"M 75.59375 56.635793 \r\nL 507.59375 56.635793 \r\n\" style=\"fill:none;stroke:#b0b0b0;stroke-linecap:square;stroke-width:0.8;\"/>\r\n     </g>\r\n     <g id=\"line2d_124\">\r\n      <g>\r\n       <use style=\"stroke:#000000;stroke-width:0.6;\" x=\"75.59375\" xlink:href=\"#mead7fdb31e\" y=\"56.635793\"/>\r\n      </g>\r\n     </g>\r\n    </g>\r\n    <g id=\"ytick_57\">\r\n     <g id=\"line2d_125\">\r\n      <path clip-path=\"url(#p9cc784e9ed)\" d=\"M 75.59375 51.361298 \r\nL 507.59375 51.361298 \r\n\" style=\"fill:none;stroke:#b0b0b0;stroke-linecap:square;stroke-width:0.8;\"/>\r\n     </g>\r\n     <g id=\"line2d_126\">\r\n      <g>\r\n       <use style=\"stroke:#000000;stroke-width:0.6;\" x=\"75.59375\" xlink:href=\"#mead7fdb31e\" y=\"51.361298\"/>\r\n      </g>\r\n     </g>\r\n    </g>\r\n    <g id=\"ytick_58\">\r\n     <g id=\"line2d_127\">\r\n      <path clip-path=\"url(#p9cc784e9ed)\" d=\"M 75.59375 47.270081 \r\nL 507.59375 47.270081 \r\n\" style=\"fill:none;stroke:#b0b0b0;stroke-linecap:square;stroke-width:0.8;\"/>\r\n     </g>\r\n     <g id=\"line2d_128\">\r\n      <g>\r\n       <use style=\"stroke:#000000;stroke-width:0.6;\" x=\"75.59375\" xlink:href=\"#mead7fdb31e\" y=\"47.270081\"/>\r\n      </g>\r\n     </g>\r\n    </g>\r\n    <g id=\"ytick_59\">\r\n     <g id=\"line2d_129\">\r\n      <path clip-path=\"url(#p9cc784e9ed)\" d=\"M 75.59375 43.927315 \r\nL 507.59375 43.927315 \r\n\" style=\"fill:none;stroke:#b0b0b0;stroke-linecap:square;stroke-width:0.8;\"/>\r\n     </g>\r\n     <g id=\"line2d_130\">\r\n      <g>\r\n       <use style=\"stroke:#000000;stroke-width:0.6;\" x=\"75.59375\" xlink:href=\"#mead7fdb31e\" y=\"43.927315\"/>\r\n      </g>\r\n     </g>\r\n    </g>\r\n    <g id=\"ytick_60\">\r\n     <g id=\"line2d_131\">\r\n      <path clip-path=\"url(#p9cc784e9ed)\" d=\"M 75.59375 41.101045 \r\nL 507.59375 41.101045 \r\n\" style=\"fill:none;stroke:#b0b0b0;stroke-linecap:square;stroke-width:0.8;\"/>\r\n     </g>\r\n     <g id=\"line2d_132\">\r\n      <g>\r\n       <use style=\"stroke:#000000;stroke-width:0.6;\" x=\"75.59375\" xlink:href=\"#mead7fdb31e\" y=\"41.101045\"/>\r\n      </g>\r\n     </g>\r\n    </g>\r\n    <g id=\"ytick_61\">\r\n     <g id=\"line2d_133\">\r\n      <path clip-path=\"url(#p9cc784e9ed)\" d=\"M 75.59375 38.65282 \r\nL 507.59375 38.65282 \r\n\" style=\"fill:none;stroke:#b0b0b0;stroke-linecap:square;stroke-width:0.8;\"/>\r\n     </g>\r\n     <g id=\"line2d_134\">\r\n      <g>\r\n       <use style=\"stroke:#000000;stroke-width:0.6;\" x=\"75.59375\" xlink:href=\"#mead7fdb31e\" y=\"38.65282\"/>\r\n      </g>\r\n     </g>\r\n    </g>\r\n    <g id=\"ytick_62\">\r\n     <g id=\"line2d_135\">\r\n      <path clip-path=\"url(#p9cc784e9ed)\" d=\"M 75.59375 36.493331 \r\nL 507.59375 36.493331 \r\n\" style=\"fill:none;stroke:#b0b0b0;stroke-linecap:square;stroke-width:0.8;\"/>\r\n     </g>\r\n     <g id=\"line2d_136\">\r\n      <g>\r\n       <use style=\"stroke:#000000;stroke-width:0.6;\" x=\"75.59375\" xlink:href=\"#mead7fdb31e\" y=\"36.493331\"/>\r\n      </g>\r\n     </g>\r\n    </g>\r\n    <g id=\"text_14\">\r\n     <!-- BTC price -->\r\n     <defs>\r\n      <path d=\"M 19.671875 34.8125 \r\nL 19.671875 8.109375 \r\nL 35.5 8.109375 \r\nQ 43.453125 8.109375 47.28125 11.40625 \r\nQ 51.125 14.703125 51.125 21.484375 \r\nQ 51.125 28.328125 47.28125 31.5625 \r\nQ 43.453125 34.8125 35.5 34.8125 \r\nz\r\nM 19.671875 64.796875 \r\nL 19.671875 42.828125 \r\nL 34.28125 42.828125 \r\nQ 41.5 42.828125 45.03125 45.53125 \r\nQ 48.578125 48.25 48.578125 53.8125 \r\nQ 48.578125 59.328125 45.03125 62.0625 \r\nQ 41.5 64.796875 34.28125 64.796875 \r\nz\r\nM 9.8125 72.90625 \r\nL 35.015625 72.90625 \r\nQ 46.296875 72.90625 52.390625 68.21875 \r\nQ 58.5 63.53125 58.5 54.890625 \r\nQ 58.5 48.1875 55.375 44.234375 \r\nQ 52.25 40.28125 46.1875 39.3125 \r\nQ 53.46875 37.75 57.5 32.78125 \r\nQ 61.53125 27.828125 61.53125 20.40625 \r\nQ 61.53125 10.640625 54.890625 5.3125 \r\nQ 48.25 0 35.984375 0 \r\nL 9.8125 0 \r\nz\r\n\" id=\"DejaVuSans-66\"/>\r\n      <path d=\"M -0.296875 72.90625 \r\nL 61.375 72.90625 \r\nL 61.375 64.59375 \r\nL 35.5 64.59375 \r\nL 35.5 0 \r\nL 25.59375 0 \r\nL 25.59375 64.59375 \r\nL -0.296875 64.59375 \r\nz\r\n\" id=\"DejaVuSans-84\"/>\r\n      <path d=\"M 64.40625 67.28125 \r\nL 64.40625 56.890625 \r\nQ 59.421875 61.53125 53.78125 63.8125 \r\nQ 48.140625 66.109375 41.796875 66.109375 \r\nQ 29.296875 66.109375 22.65625 58.46875 \r\nQ 16.015625 50.828125 16.015625 36.375 \r\nQ 16.015625 21.96875 22.65625 14.328125 \r\nQ 29.296875 6.6875 41.796875 6.6875 \r\nQ 48.140625 6.6875 53.78125 8.984375 \r\nQ 59.421875 11.28125 64.40625 15.921875 \r\nL 64.40625 5.609375 \r\nQ 59.234375 2.09375 53.4375 0.328125 \r\nQ 47.65625 -1.421875 41.21875 -1.421875 \r\nQ 24.65625 -1.421875 15.125 8.703125 \r\nQ 5.609375 18.84375 5.609375 36.375 \r\nQ 5.609375 53.953125 15.125 64.078125 \r\nQ 24.65625 74.21875 41.21875 74.21875 \r\nQ 47.75 74.21875 53.53125 72.484375 \r\nQ 59.328125 70.75 64.40625 67.28125 \r\nz\r\n\" id=\"DejaVuSans-67\"/>\r\n      <path id=\"DejaVuSans-32\"/>\r\n      <path d=\"M 18.109375 8.203125 \r\nL 18.109375 -20.796875 \r\nL 9.078125 -20.796875 \r\nL 9.078125 54.6875 \r\nL 18.109375 54.6875 \r\nL 18.109375 46.390625 \r\nQ 20.953125 51.265625 25.265625 53.625 \r\nQ 29.59375 56 35.59375 56 \r\nQ 45.5625 56 51.78125 48.09375 \r\nQ 58.015625 40.1875 58.015625 27.296875 \r\nQ 58.015625 14.40625 51.78125 6.484375 \r\nQ 45.5625 -1.421875 35.59375 -1.421875 \r\nQ 29.59375 -1.421875 25.265625 0.953125 \r\nQ 20.953125 3.328125 18.109375 8.203125 \r\nz\r\nM 48.6875 27.296875 \r\nQ 48.6875 37.203125 44.609375 42.84375 \r\nQ 40.53125 48.484375 33.40625 48.484375 \r\nQ 26.265625 48.484375 22.1875 42.84375 \r\nQ 18.109375 37.203125 18.109375 27.296875 \r\nQ 18.109375 17.390625 22.1875 11.75 \r\nQ 26.265625 6.109375 33.40625 6.109375 \r\nQ 40.53125 6.109375 44.609375 11.75 \r\nQ 48.6875 17.390625 48.6875 27.296875 \r\nz\r\n\" id=\"DejaVuSans-112\"/>\r\n      <path d=\"M 41.109375 46.296875 \r\nQ 39.59375 47.171875 37.8125 47.578125 \r\nQ 36.03125 48 33.890625 48 \r\nQ 26.265625 48 22.1875 43.046875 \r\nQ 18.109375 38.09375 18.109375 28.8125 \r\nL 18.109375 0 \r\nL 9.078125 0 \r\nL 9.078125 54.6875 \r\nL 18.109375 54.6875 \r\nL 18.109375 46.1875 \r\nQ 20.953125 51.171875 25.484375 53.578125 \r\nQ 30.03125 56 36.53125 56 \r\nQ 37.453125 56 38.578125 55.875 \r\nQ 39.703125 55.765625 41.0625 55.515625 \r\nz\r\n\" id=\"DejaVuSans-114\"/>\r\n      <path d=\"M 9.421875 54.6875 \r\nL 18.40625 54.6875 \r\nL 18.40625 0 \r\nL 9.421875 0 \r\nz\r\nM 9.421875 75.984375 \r\nL 18.40625 75.984375 \r\nL 18.40625 64.59375 \r\nL 9.421875 64.59375 \r\nz\r\n\" id=\"DejaVuSans-105\"/>\r\n      <path d=\"M 48.78125 52.59375 \r\nL 48.78125 44.1875 \r\nQ 44.96875 46.296875 41.140625 47.34375 \r\nQ 37.3125 48.390625 33.40625 48.390625 \r\nQ 24.65625 48.390625 19.8125 42.84375 \r\nQ 14.984375 37.3125 14.984375 27.296875 \r\nQ 14.984375 17.28125 19.8125 11.734375 \r\nQ 24.65625 6.203125 33.40625 6.203125 \r\nQ 37.3125 6.203125 41.140625 7.25 \r\nQ 44.96875 8.296875 48.78125 10.40625 \r\nL 48.78125 2.09375 \r\nQ 45.015625 0.34375 40.984375 -0.53125 \r\nQ 36.96875 -1.421875 32.421875 -1.421875 \r\nQ 20.0625 -1.421875 12.78125 6.34375 \r\nQ 5.515625 14.109375 5.515625 27.296875 \r\nQ 5.515625 40.671875 12.859375 48.328125 \r\nQ 20.21875 56 33.015625 56 \r\nQ 37.15625 56 41.109375 55.140625 \r\nQ 45.0625 54.296875 48.78125 52.59375 \r\nz\r\n\" id=\"DejaVuSans-99\"/>\r\n      <path d=\"M 56.203125 29.59375 \r\nL 56.203125 25.203125 \r\nL 14.890625 25.203125 \r\nQ 15.484375 15.921875 20.484375 11.0625 \r\nQ 25.484375 6.203125 34.421875 6.203125 \r\nQ 39.59375 6.203125 44.453125 7.46875 \r\nQ 49.3125 8.734375 54.109375 11.28125 \r\nL 54.109375 2.78125 \r\nQ 49.265625 0.734375 44.1875 -0.34375 \r\nQ 39.109375 -1.421875 33.890625 -1.421875 \r\nQ 20.796875 -1.421875 13.15625 6.1875 \r\nQ 5.515625 13.8125 5.515625 26.8125 \r\nQ 5.515625 40.234375 12.765625 48.109375 \r\nQ 20.015625 56 32.328125 56 \r\nQ 43.359375 56 49.78125 48.890625 \r\nQ 56.203125 41.796875 56.203125 29.59375 \r\nz\r\nM 47.21875 32.234375 \r\nQ 47.125 39.59375 43.09375 43.984375 \r\nQ 39.0625 48.390625 32.421875 48.390625 \r\nQ 24.90625 48.390625 20.390625 44.140625 \r\nQ 15.875 39.890625 15.1875 32.171875 \r\nz\r\n\" id=\"DejaVuSans-101\"/>\r\n     </defs>\r\n     <g transform=\"translate(14.798438 190.323594)rotate(-90)scale(0.1 -0.1)\">\r\n      <use xlink:href=\"#DejaVuSans-66\"/>\r\n      <use x=\"68.603516\" xlink:href=\"#DejaVuSans-84\"/>\r\n      <use x=\"129.609375\" xlink:href=\"#DejaVuSans-67\"/>\r\n      <use x=\"199.433594\" xlink:href=\"#DejaVuSans-32\"/>\r\n      <use x=\"231.220703\" xlink:href=\"#DejaVuSans-112\"/>\r\n      <use x=\"294.697266\" xlink:href=\"#DejaVuSans-114\"/>\r\n      <use x=\"335.810547\" xlink:href=\"#DejaVuSans-105\"/>\r\n      <use x=\"363.59375\" xlink:href=\"#DejaVuSans-99\"/>\r\n      <use x=\"418.574219\" xlink:href=\"#DejaVuSans-101\"/>\r\n     </g>\r\n    </g>\r\n   </g>\r\n   <g id=\"line2d_137\">\r\n    <path clip-path=\"url(#p9cc784e9ed)\" d=\"M 95.230114 243.164707 \r\nL 95.791153 243.735472 \r\nL 96.071672 243.842875 \r\nL 96.632711 243.858614 \r\nL 97.754789 244.083582 \r\nL 98.876867 244.46197 \r\nL 99.437906 244.395966 \r\nL 101.962581 245.219423 \r\nL 103.084659 245.771189 \r\nL 103.645698 245.941938 \r\nL 104.487256 245.877733 \r\nL 105.609334 246.184835 \r\nL 106.450893 245.892828 \r\nL 107.292451 245.102232 \r\nL 109.256088 243.689915 \r\nL 109.817127 243.386838 \r\nL 110.658685 242.584905 \r\nL 112.061282 241.188799 \r\nL 112.902841 240.320117 \r\nL 113.18336 240.200982 \r\nL 113.46388 239.944139 \r\nL 114.024919 239.713714 \r\nL 115.708036 238.299208 \r\nL 118.79375 235.418215 \r\nL 119.354789 235.208095 \r\nL 120.196347 235.136556 \r\nL 120.476867 235.241708 \r\nL 121.318425 235.013299 \r\nL 121.879464 234.535054 \r\nL 124.12362 234.028627 \r\nL 125.245698 233.210236 \r\nL 125.526218 233.002886 \r\nL 125.806737 232.325176 \r\nL 126.087256 230.815865 \r\nL 126.367776 230.298739 \r\nL 127.770373 228.939533 \r\nL 128.331412 228.293317 \r\nL 129.172971 227.322345 \r\nL 129.73401 226.869203 \r\nL 130.295049 226.269878 \r\nL 131.697646 225.246764 \r\nL 133.380763 223.338702 \r\nL 133.941802 223.043808 \r\nL 134.78336 222.148621 \r\nL 135.344399 221.230126 \r\nL 135.905438 220.430087 \r\nL 137.027516 218.98914 \r\nL 137.588555 218.283455 \r\nL 137.869075 217.837216 \r\nL 138.430114 217.489013 \r\nL 140.39375 215.381516 \r\nL 142.357386 214.162915 \r\nL 142.918425 213.87045 \r\nL 143.759984 213.266324 \r\nL 146.00414 211.545676 \r\nL 147.126218 210.230648 \r\nL 148.248295 208.949086 \r\nL 149.650893 208.716061 \r\nL 150.211932 208.433325 \r\nL 151.05349 207.722041 \r\nL 152.736607 206.502515 \r\nL 153.858685 205.508788 \r\nL 154.419724 204.84071 \r\nL 155.822321 202.462715 \r\nL 156.38336 201.971493 \r\nL 157.224919 200.910473 \r\nL 158.346997 199.428456 \r\nL 161.99375 197.614483 \r\nL 168.165179 196.575867 \r\nL 169.848295 196.61919 \r\nL 170.128815 196.722088 \r\nL 171.531412 196.336611 \r\nL 172.092451 196.165016 \r\nL 172.93401 196.108198 \r\nL 176.019724 192.395778 \r\nL 177.422321 190.581295 \r\nL 178.824919 188.766681 \r\nL 185.557386 181.187686 \r\nL 186.679464 179.983724 \r\nL 187.240503 179.302992 \r\nL 188.082062 177.975664 \r\nL 190.045698 175.889107 \r\nL 190.887256 174.981521 \r\nL 193.131412 171.966191 \r\nL 195.936607 168.063674 \r\nL 199.302841 163.333303 \r\nL 199.86388 162.518894 \r\nL 200.424919 161.723978 \r\nL 202.669075 158.745717 \r\nL 202.949594 158.559876 \r\nL 203.510633 157.827248 \r\nL 204.071672 157.151812 \r\nL 204.632711 156.348945 \r\nL 206.315828 153.856674 \r\nL 207.157386 152.47786 \r\nL 207.718425 152.595015 \r\nL 208.279464 152.836189 \r\nL 208.559984 152.919628 \r\nL 209.121023 153.271244 \r\nL 210.243101 153.447768 \r\nL 210.52362 153.363738 \r\nL 211.084659 153.533743 \r\nL 211.645698 153.753138 \r\nL 212.487256 153.981711 \r\nL 215.292451 153.807032 \r\nL 217.256088 153.440229 \r\nL 218.097646 153.072477 \r\nL 218.939205 152.997092 \r\nL 222.866477 152.416141 \r\nL 223.708036 152.401888 \r\nL 224.830114 151.952376 \r\nL 225.671672 151.675263 \r\nL 226.513231 151.701697 \r\nL 227.074269 151.649089 \r\nL 227.915828 151.297634 \r\nL 228.476867 151.092193 \r\nL 229.879464 150.675311 \r\nL 232.40414 149.570122 \r\nL 232.684659 149.523529 \r\nL 234.367776 148.658048 \r\nL 234.928815 148.531469 \r\nL 236.331412 147.688596 \r\nL 236.892451 147.407006 \r\nL 237.45349 146.876023 \r\nL 238.295049 146.14717 \r\nL 238.575568 146.084137 \r\nL 239.136607 145.739364 \r\nL 239.697646 145.586638 \r\nL 240.819724 145.074002 \r\nL 241.941802 144.504341 \r\nL 243.344399 143.494344 \r\nL 245.027516 142.991998 \r\nL 246.710633 141.889061 \r\nL 247.271672 141.746323 \r\nL 247.832711 141.510952 \r\nL 248.954789 141.083735 \r\nL 250.918425 140.319036 \r\nL 252.882062 139.545734 \r\nL 253.443101 139.222256 \r\nL 254.00414 139.02457 \r\nL 254.565179 138.733924 \r\nL 256.528815 137.992492 \r\nL 257.089854 137.841658 \r\nL 258.211932 137.349466 \r\nL 259.895049 136.779277 \r\nL 260.736607 136.323247 \r\nL 261.297646 136.037198 \r\nL 261.858685 136.027163 \r\nL 264.944399 135.342634 \r\nL 266.346997 134.748025 \r\nL 268.591153 134.150222 \r\nL 269.152192 133.843274 \r\nL 269.713231 133.819606 \r\nL 273.921023 133.186135 \r\nL 276.165179 133.282653 \r\nL 276.726218 133.395396 \r\nL 277.567776 133.585498 \r\nL 279.250893 133.353929 \r\nL 279.811932 133.356764 \r\nL 280.65349 133.441891 \r\nL 281.214529 133.513928 \r\nL 282.897646 133.676147 \r\nL 285.141802 133.315774 \r\nL 286.26388 133.201469 \r\nL 287.105438 133.049994 \r\nL 287.946997 133.081518 \r\nL 289.069075 133.061973 \r\nL 289.910633 132.97949 \r\nL 290.752192 133.018836 \r\nL 291.59375 132.855032 \r\nL 291.874269 132.934933 \r\nL 294.118425 132.660264 \r\nL 295.801542 132.542891 \r\nL 296.362581 132.326289 \r\nL 300.850893 127.697297 \r\nL 308.705438 118.824123 \r\nL 309.546997 117.643991 \r\nL 315.718425 108.764481 \r\nL 317.121023 106.297409 \r\nL 317.682062 105.527811 \r\nL 318.52362 104.482957 \r\nL 324.13401 95.750738 \r\nL 325.536607 93.393778 \r\nL 327.219724 90.910912 \r\nL 330.305438 85.097452 \r\nL 330.585958 84.857144 \r\nL 332.549594 85.170745 \r\nL 334.232711 85.049023 \r\nL 334.79375 84.748452 \r\nL 335.354789 84.715219 \r\nL 337.318425 85.034597 \r\nL 337.598945 85.026875 \r\nL 337.879464 84.901977 \r\nL 340.12362 85.119693 \r\nL 340.684659 85.215594 \r\nL 341.245698 85.078911 \r\nL 341.806737 85.018354 \r\nL 342.648295 84.64421 \r\nL 343.770373 84.734453 \r\nL 344.892451 84.956008 \r\nL 345.172971 84.944521 \r\nL 345.73401 85.082526 \r\nL 346.856088 84.976752 \r\nL 353.869075 84.972133 \r\nL 354.991153 84.816799 \r\nL 358.637906 84.790986 \r\nL 359.479464 84.650747 \r\nL 361.443101 84.500635 \r\nL 362.284659 84.391945 \r\nL 363.687256 84.526359 \r\nL 364.248295 84.332297 \r\nL 364.809334 84.200303 \r\nL 365.370373 84.113916 \r\nL 366.492451 84.083992 \r\nL 368.456088 84.110897 \r\nL 369.297646 84.414711 \r\nL 369.858685 84.271964 \r\nL 370.980763 83.809633 \r\nL 371.822321 83.742752 \r\nL 372.66388 83.678639 \r\nL 373.505438 83.481955 \r\nL 375.188555 83.051116 \r\nL 376.871672 82.951595 \r\nL 378.274269 82.162019 \r\nL 379.676867 81.354907 \r\nL 379.957386 81.299893 \r\nL 380.798945 81.428585 \r\nL 381.921023 81.260236 \r\nL 383.32362 80.694007 \r\nL 384.445698 80.476971 \r\nL 385.006737 80.462034 \r\nL 386.128815 80.242229 \r\nL 388.93401 79.946263 \r\nL 390.056088 79.768205 \r\nL 392.019724 79.474652 \r\nL 392.861282 79.41801 \r\nL 393.422321 79.375312 \r\nL 394.544399 79.356395 \r\nL 395.105438 79.28644 \r\nL 395.666477 79.126592 \r\nL 397.910633 79.02919 \r\nL 398.752192 79.216008 \r\nL 399.874269 79.151264 \r\nL 400.435308 79.009833 \r\nL 401.557386 78.994437 \r\nL 402.398945 78.825845 \r\nL 404.362581 78.800938 \r\nL 405.20414 78.896665 \r\nL 406.045698 78.911635 \r\nL 407.167776 78.887987 \r\nL 408.009334 78.918088 \r\nL 409.131412 78.934295 \r\nL 409.972971 78.767312 \r\nL 413.619724 79.443733 \r\nL 414.461282 79.399448 \r\nL 415.302841 79.335746 \r\nL 416.424919 79.315717 \r\nL 417.266477 79.422345 \r\nL 419.791153 79.14732 \r\nL 420.352192 79.336124 \r\nL 421.19375 79.459002 \r\nL 422.035308 79.545801 \r\nL 422.876867 79.561082 \r\nL 425.121023 79.753396 \r\nL 425.962581 79.966785 \r\nL 426.52362 79.819883 \r\nL 427.365179 79.172718 \r\nL 428.767776 77.708935 \r\nL 429.609334 76.790296 \r\nL 431.85349 74.487434 \r\nL 433.256088 73.130928 \r\nL 433.817127 72.632841 \r\nL 435.219724 70.859656 \r\nL 436.061282 69.99992 \r\nL 436.622321 69.466227 \r\nL 437.46388 68.630692 \r\nL 441.671672 63.489943 \r\nL 442.513231 62.577877 \r\nL 443.074269 61.867396 \r\nL 444.196347 60.829542 \r\nL 444.757386 60.133868 \r\nL 445.598945 59.195058 \r\nL 445.879464 58.963121 \r\nL 447.282062 57.06435 \r\nL 454.295049 47.570423 \r\nL 457.380763 42.336165 \r\nL 460.466477 36.660432 \r\nL 460.746997 36.119876 \r\nL 487.957386 35.409034 \r\nL 487.957386 35.409034 \r\n\" style=\"fill:none;stroke:#ff0000;stroke-linecap:square;stroke-width:1.5;\"/>\r\n   </g>\r\n   <g id=\"line2d_138\">\r\n    <path clip-path=\"url(#p9cc784e9ed)\" d=\"M 95.230114 294.400947 \r\nL 95.791153 294.400947 \r\nL 96.071672 297.227216 \r\nL 97.474269 297.227216 \r\nL 97.754789 280.427522 \r\nL 98.035308 297.227216 \r\nL 99.718425 297.227216 \r\nL 99.998945 284.518738 \r\nL 100.279464 287.861505 \r\nL 100.559984 284.518738 \r\nL 100.840503 287.861505 \r\nL 101.121023 286.114044 \r\nL 101.401542 277.084755 \r\nL 101.682062 276.093462 \r\nL 101.962581 276.093462 \r\nL 102.243101 274.258486 \r\nL 102.52362 271.061811 \r\nL 102.80414 264.376277 \r\nL 103.084659 271.81026 \r\nL 103.365179 267.719044 \r\nL 103.645698 268.983991 \r\nL 103.926218 268.34061 \r\nL 104.487256 268.34061 \r\nL 104.767776 268.983991 \r\nL 105.328815 272.590567 \r\nL 105.609334 271.061811 \r\nL 105.889854 272.590567 \r\nL 106.170373 272.590567 \r\nL 106.731412 269.650772 \r\nL 107.011932 271.061811 \r\nL 107.572971 267.719044 \r\nL 108.13401 267.719044 \r\nL 108.414529 266.535765 \r\nL 108.695049 265.971583 \r\nL 108.975568 261.550008 \r\nL 109.256088 262.444549 \r\nL 109.536607 264.892775 \r\nL 109.817127 261.118589 \r\nL 110.097646 261.118589 \r\nL 110.378166 260.285061 \r\nL 110.939205 250.200259 \r\nL 111.219724 247.173611 \r\nL 111.500244 246.203308 \r\nL 111.780763 244.064833 \r\nL 112.061282 244.233816 \r\nL 112.341802 244.925764 \r\nL 112.622321 247.98861 \r\nL 112.902841 246.393304 \r\nL 113.18336 246.393304 \r\nL 113.46388 246.585289 \r\nL 114.024919 247.576583 \r\nL 114.305438 246.975399 \r\nL 114.866477 248.198149 \r\nL 115.146997 249.966696 \r\nL 115.427516 248.410111 \r\nL 115.708036 247.576583 \r\nL 115.988555 249.736071 \r\nL 116.269075 249.736071 \r\nL 116.549594 250.436836 \r\nL 116.830114 250.200259 \r\nL 117.110633 250.676505 \r\nL 117.391153 245.829122 \r\nL 117.952192 242.455515 \r\nL 118.232711 239.739628 \r\nL 118.513231 235.808539 \r\nL 119.074269 220.458524 \r\nL 119.354789 222.364483 \r\nL 119.635308 221.411177 \r\nL 120.196347 206.278936 \r\nL 120.476867 206.472725 \r\nL 120.757386 209.248556 \r\nL 121.037906 210.472174 \r\nL 121.318425 207.63437 \r\nL 121.879464 204.426629 \r\nL 122.159984 195.933208 \r\nL 122.440503 191.477727 \r\nL 122.721023 181.908688 \r\nL 123.282062 190.728896 \r\nL 123.843101 195.523617 \r\nL 124.12362 193.753427 \r\nL 124.40414 192.763842 \r\nL 124.684659 193.294107 \r\nL 124.965179 195.111325 \r\nL 125.245698 194.313553 \r\nL 125.526218 195.799689 \r\nL 125.806737 196.590516 \r\nL 126.367776 197.35107 \r\nL 126.648295 197.337913 \r\nL 126.928815 197.05082 \r\nL 127.489854 197.18076 \r\nL 127.770373 198.103359 \r\nL 128.331412 204.06242 \r\nL 128.892451 201.025872 \r\nL 129.172971 201.041962 \r\nL 129.45349 200.47144 \r\nL 129.73401 200.913636 \r\nL 130.014529 203.409879 \r\nL 130.295049 204.562656 \r\nL 130.575568 206.494384 \r\nL 130.856088 206.278936 \r\nL 131.417127 211.354604 \r\nL 131.697646 212.222327 \r\nL 131.978166 215.488245 \r\nL 132.258685 213.133167 \r\nL 132.539205 213.415482 \r\nL 132.819724 214.422588 \r\nL 133.100244 216.32095 \r\nL 133.380763 215.172428 \r\nL 133.941802 216.923368 \r\nL 134.222321 219.202862 \r\nL 134.502841 218.605874 \r\nL 134.78336 220.833666 \r\nL 135.06388 228.196723 \r\nL 135.344399 223.699458 \r\nL 135.624919 225.502393 \r\nL 135.905438 223.261599 \r\nL 136.185958 223.315763 \r\nL 136.466477 223.866389 \r\nL 136.746997 225.259549 \r\nL 137.027516 224.960449 \r\nL 137.308036 224.842162 \r\nL 137.869075 229.824235 \r\nL 138.149594 230.373917 \r\nL 138.430114 228.992426 \r\nL 138.710633 228.771969 \r\nL 138.991153 225.502393 \r\nL 139.271672 224.90121 \r\nL 139.832711 225.259549 \r\nL 140.113231 223.589009 \r\nL 140.39375 224.319115 \r\nL 140.674269 223.424573 \r\nL 140.954789 219.864828 \r\nL 141.235308 219.954924 \r\nL 141.515828 219.819946 \r\nL 141.796347 218.191049 \r\nL 142.357386 211.046455 \r\nL 142.637906 209.451148 \r\nL 142.918425 209.707579 \r\nL 143.198945 210.472174 \r\nL 143.479464 210.046391 \r\nL 143.759984 211.129983 \r\nL 144.040503 211.411192 \r\nL 144.601542 213.670131 \r\nL 144.882062 213.510562 \r\nL 145.162581 212.824498 \r\nL 145.443101 213.606137 \r\nL 145.72362 212.978183 \r\nL 146.00414 213.766544 \r\nL 146.284659 217.115757 \r\nL 146.565179 218.563966 \r\nL 146.845698 217.546255 \r\nL 147.126218 215.954248 \r\nL 147.687256 216.358027 \r\nL 147.967776 215.99059 \r\nL 148.248295 216.173388 \r\nL 148.528815 216.210167 \r\nL 148.809334 214.556661 \r\nL 149.089854 214.725643 \r\nL 149.370373 216.32095 \r\nL 149.650893 216.846975 \r\nL 149.931412 217.115757 \r\nL 150.492451 216.247021 \r\nL 151.05349 216.358027 \r\nL 151.33401 216.507088 \r\nL 151.614529 216.247021 \r\nL 151.895049 216.173388 \r\nL 152.175568 215.452884 \r\nL 152.456088 215.068354 \r\nL 152.736607 215.559171 \r\nL 153.297646 215.99059 \r\nL 153.578166 215.594738 \r\nL 153.858685 215.773612 \r\nL 154.139205 215.773612 \r\nL 154.419724 216.10005 \r\nL 154.700244 215.773612 \r\nL 154.980763 215.630373 \r\nL 155.541802 215.594738 \r\nL 155.822321 215.559171 \r\nL 156.38336 215.172428 \r\nL 156.944399 213.798795 \r\nL 157.224919 213.542365 \r\nL 157.505438 211.98689 \r\nL 157.785958 211.382876 \r\nL 158.066477 210.499117 \r\nL 158.346997 211.157911 \r\nL 158.627516 211.102098 \r\nL 158.908036 210.798129 \r\nL 159.469075 210.66161 \r\nL 159.749594 210.020105 \r\nL 160.310633 207.983609 \r\nL 160.591153 204.621264 \r\nL 160.871672 204.310832 \r\nL 161.152192 205.5442 \r\nL 161.432711 205.462074 \r\nL 161.713231 204.917147 \r\nL 162.274269 201.334022 \r\nL 162.554789 201.106463 \r\nL 162.835308 200.64389 \r\nL 163.115828 199.632712 \r\nL 163.396347 195.547459 \r\nL 163.676867 202.621179 \r\nL 163.957386 202.975479 \r\nL 164.237906 201.697419 \r\nL 164.518425 201.448869 \r\nL 164.798945 202.779767 \r\nL 165.079464 202.37718 \r\nL 165.359984 201.236151 \r\nL 165.640503 201.448869 \r\nL 166.201542 200.11602 \r\nL 166.482062 199.147295 \r\nL 167.043101 199.722367 \r\nL 167.60414 199.220022 \r\nL 167.884659 198.519439 \r\nL 168.445698 199.842593 \r\nL 169.567776 200.300597 \r\nL 169.848295 200.770336 \r\nL 170.128815 202.204863 \r\nL 170.409334 201.39956 \r\nL 170.689854 202.325315 \r\nL 170.970373 201.730815 \r\nL 171.531412 201.39956 \r\nL 171.811932 201.219889 \r\nL 172.092451 200.362538 \r\nL 172.372971 200.238865 \r\nL 172.65349 199.395753 \r\nL 172.93401 199.336988 \r\nL 173.495049 198.973918 \r\nL 173.775568 197.669708 \r\nL 174.056088 197.885251 \r\nL 174.336607 197.522978 \r\nL 174.617127 197.589528 \r\nL 174.897646 198.062266 \r\nL 175.178166 197.75024 \r\nL 175.458685 197.993981 \r\nL 176.019724 197.831127 \r\nL 176.300244 198.034921 \r\nL 176.580763 197.871705 \r\nL 176.861282 197.469911 \r\nL 177.141802 196.85762 \r\nL 177.422321 196.819224 \r\nL 177.702841 195.357586 \r\nL 177.98336 194.639858 \r\nL 178.26388 192.682037 \r\nL 178.544399 192.949248 \r\nL 179.105438 189.608207 \r\nL 179.385958 189.833918 \r\nL 179.666477 188.847682 \r\nL 179.946997 187.399892 \r\nL 180.227516 187.149199 \r\nL 180.788555 183.606327 \r\nL 181.069075 182.970669 \r\nL 181.349594 183.042899 \r\nL 181.630114 181.339354 \r\nL 181.910633 180.856626 \r\nL 182.191153 177.116707 \r\nL 182.471672 175.081811 \r\nL 182.752192 176.130929 \r\nL 183.032711 175.093535 \r\nL 183.313231 173.15868 \r\nL 183.59375 167.685632 \r\nL 183.874269 167.252332 \r\nL 184.154789 163.389386 \r\nL 184.435308 162.640937 \r\nL 185.276867 149.739234 \r\nL 185.557386 157.135011 \r\nL 185.837906 161.211554 \r\nL 186.118425 162.365521 \r\nL 186.398945 156.757268 \r\nL 186.679464 154.718006 \r\nL 186.959984 155.43967 \r\nL 187.240503 154.457395 \r\nL 187.521023 160.616286 \r\nL 187.801542 158.493515 \r\nL 188.082062 158.91406 \r\nL 188.362581 158.541001 \r\nL 188.643101 159.133734 \r\nL 188.92362 157.368424 \r\nL 189.20414 157.562726 \r\nL 189.765179 155.914155 \r\nL 190.045698 156.079705 \r\nL 190.326218 156.500238 \r\nL 191.167776 160.125937 \r\nL 191.448295 160.510101 \r\nL 191.728815 161.229898 \r\nL 192.009334 159.85492 \r\nL 192.289854 159.741194 \r\nL 192.570373 160.511866 \r\nL 193.411932 165.293605 \r\nL 193.692451 166.486049 \r\nL 194.25349 161.58196 \r\nL 194.53401 161.760559 \r\nL 194.814529 162.740311 \r\nL 195.095049 162.742304 \r\nL 195.375568 161.770007 \r\nL 195.656088 161.451465 \r\nL 195.936607 160.108665 \r\nL 196.217127 160.325746 \r\nL 196.497646 160.046619 \r\nL 196.778166 160.705245 \r\nL 197.058685 160.03286 \r\nL 197.339205 161.566999 \r\nL 197.619724 161.340347 \r\nL 197.900244 159.392562 \r\nL 198.180763 159.624806 \r\nL 198.741802 157.143821 \r\nL 199.022321 156.388559 \r\nL 199.58336 158.14899 \r\nL 199.86388 156.895838 \r\nL 200.144399 157.260212 \r\nL 200.424919 155.154174 \r\nL 200.705438 157.4101 \r\nL 200.985958 157.468307 \r\nL 201.546997 156.827865 \r\nL 201.827516 160.518927 \r\nL 202.108036 157.686353 \r\nL 202.669075 156.770214 \r\nL 203.230114 154.533661 \r\nL 203.510633 149.821796 \r\nL 203.791153 148.166988 \r\nL 204.071672 150.479677 \r\nL 204.352192 147.092037 \r\nL 204.632711 148.230101 \r\nL 204.913231 145.944603 \r\nL 205.19375 141.626286 \r\nL 205.474269 139.433089 \r\nL 205.754789 136.118292 \r\nL 206.035308 134.162507 \r\nL 206.315828 130.056201 \r\nL 206.596347 123.20107 \r\nL 206.876867 122.755433 \r\nL 207.157386 118.738194 \r\nL 207.437906 119.838903 \r\nL 207.718425 116.642496 \r\nL 207.998945 125.3802 \r\nL 208.279464 119.388523 \r\nL 208.559984 121.234781 \r\nL 208.840503 125.798155 \r\nL 209.121023 125.92347 \r\nL 209.401542 127.934441 \r\nL 209.682062 126.092259 \r\nL 209.962581 125.145615 \r\nL 210.243101 124.714792 \r\nL 210.80414 120.609755 \r\nL 211.084659 122.493514 \r\nL 211.365179 122.10361 \r\nL 211.645698 122.151679 \r\nL 211.926218 122.831218 \r\nL 212.206737 122.526828 \r\nL 212.767776 124.328899 \r\nL 213.048295 123.08612 \r\nL 213.328815 122.760386 \r\nL 213.609334 123.526818 \r\nL 213.889854 126.044259 \r\nL 214.450893 126.329509 \r\nL 214.731412 127.467238 \r\nL 215.011932 129.527604 \r\nL 215.292451 128.026027 \r\nL 215.85349 129.382287 \r\nL 216.13401 126.247905 \r\nL 216.414529 127.408251 \r\nL 216.695049 127.485583 \r\nL 216.975568 127.148425 \r\nL 217.256088 127.321425 \r\nL 217.536607 128.021527 \r\nL 217.817127 129.527278 \r\nL 218.097646 128.800061 \r\nL 218.378166 131.718055 \r\nL 218.658685 133.332455 \r\nL 218.939205 133.687336 \r\nL 219.219724 133.312027 \r\nL 219.780763 134.753532 \r\nL 220.061282 130.87882 \r\nL 220.341802 132.371413 \r\nL 220.622321 131.762882 \r\nL 220.902841 131.624713 \r\nL 221.18336 134.097209 \r\nL 221.46388 133.552587 \r\nL 222.024919 134.553685 \r\nL 222.305438 133.675899 \r\nL 222.585958 133.945331 \r\nL 222.866477 133.777037 \r\nL 223.146997 133.762261 \r\nL 223.708036 130.707496 \r\nL 224.549594 126.55768 \r\nL 225.110633 126.693613 \r\nL 225.391153 127.613046 \r\nL 225.671672 129.227858 \r\nL 225.952192 128.117771 \r\nL 226.232711 128.56094 \r\nL 226.513231 128.723227 \r\nL 226.79375 129.066461 \r\nL 227.074269 128.360921 \r\nL 227.354789 126.879259 \r\nL 227.635308 127.436995 \r\nL 227.915828 127.613046 \r\nL 228.196347 127.350032 \r\nL 228.476867 127.723684 \r\nL 229.037906 127.553589 \r\nL 229.318425 127.74672 \r\nL 229.598945 128.48633 \r\nL 229.879464 128.809139 \r\nL 230.159984 128.490638 \r\nL 230.721023 128.824176 \r\nL 231.001542 128.645783 \r\nL 231.843101 132.073788 \r\nL 232.12362 131.136889 \r\nL 232.40414 131.646633 \r\nL 232.684659 131.462589 \r\nL 232.965179 132.495044 \r\nL 233.245698 132.663126 \r\nL 233.526218 132.467498 \r\nL 233.806737 132.707616 \r\nL 234.087256 132.65849 \r\nL 234.367776 132.805485 \r\nL 234.648295 134.658936 \r\nL 234.928815 135.741962 \r\nL 235.209334 134.740112 \r\nL 235.489854 135.776731 \r\nL 235.770373 136.250326 \r\nL 236.331412 139.454902 \r\nL 236.611932 137.543388 \r\nL 237.172971 136.032651 \r\nL 237.73401 136.453029 \r\nL 238.014529 137.803391 \r\nL 238.575568 138.490697 \r\nL 238.856088 139.637694 \r\nL 239.136607 138.848321 \r\nL 239.417127 138.403824 \r\nL 239.978166 135.835438 \r\nL 240.258685 136.311986 \r\nL 240.539205 137.906993 \r\nL 240.819724 137.36725 \r\nL 241.100244 137.38024 \r\nL 241.380763 136.949053 \r\nL 241.661282 136.753376 \r\nL 241.941802 136.92905 \r\nL 242.502841 138.296859 \r\nL 242.78336 137.838714 \r\nL 243.06388 139.809199 \r\nL 243.344399 139.237377 \r\nL 243.624919 138.939508 \r\nL 243.905438 139.324966 \r\nL 244.185958 140.267917 \r\nL 244.466477 140.185614 \r\nL 244.746997 143.470582 \r\nL 245.027516 141.192347 \r\nL 245.308036 142.599843 \r\nL 245.588555 146.589692 \r\nL 245.869075 147.77253 \r\nL 246.149594 147.091188 \r\nL 246.710633 144.097747 \r\nL 247.271672 146.818226 \r\nL 247.552192 146.138578 \r\nL 247.832711 146.559984 \r\nL 248.113231 146.76145 \r\nL 248.39375 146.562458 \r\nL 248.674269 145.610399 \r\nL 248.954789 145.356927 \r\nL 249.235308 144.751609 \r\nL 249.515828 145.164893 \r\nL 249.796347 144.257767 \r\nL 250.076867 142.606487 \r\nL 250.357386 142.790842 \r\nL 250.637906 142.664399 \r\nL 250.918425 141.280543 \r\nL 251.198945 142.190546 \r\nL 251.479464 142.043011 \r\nL 251.759984 143.545278 \r\nL 252.040503 143.275164 \r\nL 252.321023 144.468417 \r\nL 252.601542 144.982414 \r\nL 252.882062 144.6711 \r\nL 253.162581 144.144667 \r\nL 253.443101 144.12805 \r\nL 254.00414 146.506467 \r\nL 254.284659 146.140995 \r\nL 254.565179 146.539382 \r\nL 254.845698 145.65665 \r\nL 255.126218 146.238771 \r\nL 255.406737 146.327298 \r\nL 255.967776 145.294488 \r\nL 256.248295 145.378561 \r\nL 256.528815 145.228426 \r\nL 256.809334 145.470789 \r\nL 257.089854 145.41958 \r\nL 257.370373 145.829354 \r\nL 257.650893 145.252211 \r\nL 257.931412 145.500338 \r\nL 258.211932 145.434307 \r\nL 258.492451 146.073423 \r\nL 258.772971 146.311022 \r\nL 259.05349 146.344403 \r\nL 259.33401 146.030116 \r\nL 259.614529 145.97253 \r\nL 259.895049 145.468459 \r\nL 260.175568 144.539914 \r\nL 260.736607 145.145037 \r\nL 261.297646 143.522209 \r\nL 261.578166 143.968438 \r\nL 261.858685 143.100915 \r\nL 262.139205 143.068852 \r\nL 262.419724 140.435409 \r\nL 262.700244 141.967118 \r\nL 262.980763 142.548758 \r\nL 263.261282 142.547433 \r\nL 263.541802 141.753991 \r\nL 263.822321 141.443865 \r\nL 264.38336 142.186649 \r\nL 264.66388 142.268676 \r\nL 264.944399 143.536886 \r\nL 265.224919 142.934394 \r\nL 265.505438 143.2793 \r\nL 265.785958 143.929823 \r\nL 266.066477 145.522142 \r\nL 266.346997 146.089489 \r\nL 266.627516 146.340329 \r\nL 266.908036 145.970135 \r\nL 267.188555 146.103156 \r\nL 267.469075 145.882517 \r\nL 267.749594 145.124439 \r\nL 268.030114 145.251444 \r\nL 268.310633 145.940617 \r\nL 268.591153 146.074226 \r\nL 268.871672 145.920699 \r\nL 269.152192 145.907167 \r\nL 269.713231 145.226126 \r\nL 270.274269 145.282948 \r\nL 270.835308 144.728464 \r\nL 271.115828 144.413327 \r\nL 271.396347 143.534089 \r\nL 271.676867 143.441345 \r\nL 272.237906 142.151606 \r\nL 272.518425 140.778665 \r\nL 272.798945 140.457267 \r\nL 273.079464 135.589487 \r\nL 273.359984 137.042037 \r\nL 273.640503 136.705143 \r\nL 273.921023 138.730667 \r\nL 274.201542 139.944923 \r\nL 274.482062 139.119406 \r\nL 275.043101 139.906452 \r\nL 275.32362 137.828468 \r\nL 275.60414 136.867227 \r\nL 275.884659 137.651613 \r\nL 277.006737 133.074188 \r\nL 277.287256 133.112954 \r\nL 277.567776 134.116021 \r\nL 277.848295 133.392266 \r\nL 278.128815 134.794719 \r\nL 278.689854 134.351332 \r\nL 278.970373 134.365319 \r\nL 279.250893 133.527862 \r\nL 279.531412 133.717597 \r\nL 279.811932 134.487835 \r\nL 280.092451 136.727315 \r\nL 280.372971 134.884784 \r\nL 280.65349 136.491078 \r\nL 280.93401 136.180913 \r\nL 281.214529 136.823056 \r\nL 281.495049 137.125635 \r\nL 281.775568 136.353051 \r\nL 282.056088 136.977877 \r\nL 282.336607 136.776574 \r\nL 282.617127 136.264429 \r\nL 283.458685 134.182645 \r\nL 283.739205 134.749635 \r\nL 284.019724 134.388228 \r\nL 284.300244 134.791247 \r\nL 284.580763 135.832682 \r\nL 285.141802 134.895256 \r\nL 285.422321 135.120076 \r\nL 285.702841 134.966092 \r\nL 285.98336 135.261111 \r\nL 286.26388 134.989327 \r\nL 287.105438 135.06185 \r\nL 287.385958 134.912721 \r\nL 287.946997 134.867346 \r\nL 288.227516 134.731891 \r\nL 289.069075 133.72906 \r\nL 289.349594 133.132765 \r\nL 289.630114 133.635925 \r\nL 289.910633 133.513286 \r\nL 290.191153 133.764313 \r\nL 290.471672 133.271241 \r\nL 290.752192 133.603358 \r\nL 291.032711 133.399505 \r\nL 291.313231 133.472857 \r\nL 291.59375 134.212474 \r\nL 291.874269 134.111003 \r\nL 292.154789 133.688153 \r\nL 292.435308 130.751657 \r\nL 292.715828 130.567031 \r\nL 292.996347 129.369368 \r\nL 293.276867 128.864964 \r\nL 293.557386 129.162618 \r\nL 293.837906 126.45136 \r\nL 294.118425 125.695346 \r\nL 294.398945 124.221547 \r\nL 294.679464 126.489675 \r\nL 294.959984 126.474781 \r\nL 295.240503 126.840967 \r\nL 295.521023 126.393627 \r\nL 295.801542 126.69752 \r\nL 296.082062 126.234839 \r\nL 296.362581 126.966277 \r\nL 296.643101 126.488571 \r\nL 296.92362 126.524751 \r\nL 297.20414 126.243004 \r\nL 297.484659 126.502372 \r\nL 298.326218 126.76154 \r\nL 298.606737 130.609472 \r\nL 298.887256 129.213767 \r\nL 299.167776 128.616322 \r\nL 299.448295 128.793176 \r\nL 299.728815 129.386811 \r\nL 300.289854 129.060745 \r\nL 300.570373 128.919698 \r\nL 301.411932 129.268912 \r\nL 301.692451 128.240309 \r\nL 302.25349 127.710703 \r\nL 302.53401 128.09306 \r\nL 303.095049 128.097879 \r\nL 303.375568 128.542413 \r\nL 304.217127 127.968209 \r\nL 304.497646 128.142515 \r\nL 304.778166 127.915642 \r\nL 305.058685 127.914747 \r\nL 305.339205 127.349454 \r\nL 305.619724 127.206867 \r\nL 305.900244 127.532547 \r\nL 306.180763 126.801631 \r\nL 306.461282 126.852221 \r\nL 306.741802 125.907157 \r\nL 307.022321 125.612828 \r\nL 307.302841 125.966594 \r\nL 307.58336 125.275311 \r\nL 307.86388 124.979691 \r\nL 308.144399 125.474725 \r\nL 308.424919 125.229658 \r\nL 308.705438 124.294351 \r\nL 308.985958 124.590729 \r\nL 309.266477 124.623847 \r\nL 309.546997 124.832641 \r\nL 310.108036 123.955045 \r\nL 310.388555 124.050937 \r\nL 310.949594 123.597616 \r\nL 311.230114 123.647409 \r\nL 311.510633 123.347638 \r\nL 312.352192 120.318747 \r\nL 312.632711 119.779293 \r\nL 312.913231 118.750492 \r\nL 313.19375 119.001322 \r\nL 313.474269 120.714169 \r\nL 313.754789 123.528696 \r\nL 314.035308 122.643459 \r\nL 314.315828 120.79267 \r\nL 314.596347 121.015668 \r\nL 314.876867 120.524258 \r\nL 315.437906 120.679969 \r\nL 315.998945 118.380654 \r\nL 316.279464 118.050839 \r\nL 316.559984 119.039143 \r\nL 316.840503 118.972916 \r\nL 317.121023 118.36063 \r\nL 317.401542 118.085178 \r\nL 317.682062 116.753948 \r\nL 317.962581 116.426546 \r\nL 318.243101 115.791857 \r\nL 318.52362 114.368865 \r\nL 318.80414 114.476021 \r\nL 319.084659 115.773392 \r\nL 319.645698 114.801301 \r\nL 319.926218 119.597072 \r\nL 320.206737 117.032034 \r\nL 320.487256 120.366303 \r\nL 320.767776 118.257488 \r\nL 321.048295 118.368779 \r\nL 322.170373 115.362762 \r\nL 322.450893 116.110685 \r\nL 322.731412 116.007426 \r\nL 323.011932 115.100849 \r\nL 323.292451 115.038537 \r\nL 323.85349 113.724993 \r\nL 324.13401 112.213493 \r\nL 324.414529 111.333161 \r\nL 324.975568 107.92512 \r\nL 325.256088 108.42301 \r\nL 325.536607 108.382061 \r\nL 326.097646 104.07551 \r\nL 326.658685 103.803695 \r\nL 327.500244 100.89977 \r\nL 327.780763 99.482673 \r\nL 328.341802 102.357711 \r\nL 328.902841 100.692862 \r\nL 329.18336 102.180328 \r\nL 329.46388 101.772559 \r\nL 329.744399 102.781961 \r\nL 330.024919 101.483948 \r\nL 330.305438 102.174247 \r\nL 330.585958 103.50928 \r\nL 330.866477 103.419682 \r\nL 331.146997 107.121404 \r\nL 331.708036 99.951106 \r\nL 331.988555 101.72961 \r\nL 332.269075 100.217191 \r\nL 332.549594 99.710077 \r\nL 332.830114 100.182987 \r\nL 333.110633 97.610816 \r\nL 333.391153 96.882546 \r\nL 333.671672 94.190729 \r\nL 333.952192 92.771054 \r\nL 334.232711 93.104172 \r\nL 334.513231 93.640943 \r\nL 334.79375 92.117024 \r\nL 335.074269 92.086237 \r\nL 335.354789 91.085292 \r\nL 335.635308 91.073093 \r\nL 335.915828 91.893014 \r\nL 336.196347 92.199788 \r\nL 336.476867 92.689563 \r\nL 336.757386 97.575269 \r\nL 337.037906 95.11403 \r\nL 337.318425 94.068105 \r\nL 337.598945 94.626682 \r\nL 337.879464 94.131676 \r\nL 338.440503 91.855214 \r\nL 338.721023 92.172936 \r\nL 339.282062 90.150694 \r\nL 339.562581 86.683558 \r\nL 339.843101 87.426403 \r\nL 340.12362 86.185448 \r\nL 340.40414 86.450281 \r\nL 340.684659 86.483776 \r\nL 340.965179 85.73156 \r\nL 341.526218 82.383311 \r\nL 341.806737 82.983819 \r\nL 342.087256 84.482209 \r\nL 342.367776 84.694402 \r\nL 342.648295 81.172718 \r\nL 343.209334 80.334825 \r\nL 343.489854 79.187129 \r\nL 344.050893 75.232107 \r\nL 344.331412 74.070936 \r\nL 344.611932 67.20013 \r\nL 344.892451 69.260186 \r\nL 345.172971 67.874125 \r\nL 345.45349 64.742085 \r\nL 345.73401 66.641055 \r\nL 346.014529 70.904129 \r\nL 346.295049 70.951662 \r\nL 346.575568 70.33107 \r\nL 346.856088 70.878342 \r\nL 347.136607 69.29637 \r\nL 347.417127 66.882047 \r\nL 347.697646 70.045137 \r\nL 347.978166 70.884736 \r\nL 348.258685 71.202618 \r\nL 348.539205 74.7417 \r\nL 348.819724 74.194411 \r\nL 349.100244 74.388744 \r\nL 349.380763 74.325539 \r\nL 349.941802 79.012476 \r\nL 350.222321 83.513978 \r\nL 350.502841 80.316225 \r\nL 350.78336 80.71424 \r\nL 351.344399 74.88829 \r\nL 351.624919 74.625318 \r\nL 351.905438 76.466844 \r\nL 352.185958 76.201702 \r\nL 352.746997 74.188982 \r\nL 353.308036 79.169219 \r\nL 353.588555 78.399834 \r\nL 353.869075 80.199167 \r\nL 354.149594 79.53149 \r\nL 354.430114 79.278161 \r\nL 354.710633 79.848855 \r\nL 354.991153 80.983013 \r\nL 355.271672 83.481973 \r\nL 355.552192 82.233362 \r\nL 355.832711 84.300417 \r\nL 356.113231 83.891249 \r\nL 356.39375 81.004125 \r\nL 356.674269 80.044688 \r\nL 356.954789 80.470574 \r\nL 357.515828 77.416057 \r\nL 357.796347 78.856118 \r\nL 358.076867 78.228361 \r\nL 358.357386 77.236144 \r\nL 358.637906 77.466756 \r\nL 358.918425 78.088365 \r\nL 359.198945 79.836807 \r\nL 359.479464 79.82048 \r\nL 359.759984 80.329572 \r\nL 360.040503 79.982286 \r\nL 360.321023 81.866007 \r\nL 360.601542 82.436729 \r\nL 360.882062 82.331785 \r\nL 361.162581 81.720525 \r\nL 361.72362 81.772454 \r\nL 362.00414 83.636565 \r\nL 362.565179 84.829976 \r\nL 362.845698 83.955084 \r\nL 363.126218 85.630345 \r\nL 363.406737 85.848545 \r\nL 363.687256 85.474067 \r\nL 363.967776 84.323202 \r\nL 364.248295 84.520514 \r\nL 364.528815 84.055126 \r\nL 364.809334 84.951578 \r\nL 365.089854 85.398919 \r\nL 365.370373 82.494085 \r\nL 365.650893 82.460635 \r\nL 365.931412 81.534316 \r\nL 366.492451 80.370051 \r\nL 367.614529 85.724181 \r\nL 368.456088 84.714318 \r\nL 368.736607 85.091296 \r\nL 369.297646 83.114035 \r\nL 369.578166 83.268573 \r\nL 369.858685 82.636219 \r\nL 370.139205 84.673069 \r\nL 370.419724 85.421995 \r\nL 370.700244 85.173797 \r\nL 370.980763 84.613378 \r\nL 371.261282 85.126472 \r\nL 371.541802 83.967861 \r\nL 371.822321 84.442537 \r\nL 372.102841 84.158924 \r\nL 372.38336 84.365917 \r\nL 372.66388 84.722375 \r\nL 373.224919 84.322068 \r\nL 373.505438 85.404318 \r\nL 373.785958 84.39881 \r\nL 374.066477 84.649338 \r\nL 374.908036 84.797521 \r\nL 375.188555 85.244739 \r\nL 375.749594 84.85283 \r\nL 376.030114 84.832308 \r\nL 376.310633 84.936266 \r\nL 376.591153 86.902698 \r\nL 376.871672 87.499366 \r\nL 377.152192 91.451165 \r\nL 377.432711 92.02747 \r\nL 377.713231 94.550496 \r\nL 377.99375 92.342733 \r\nL 378.274269 92.944559 \r\nL 378.835308 96.270543 \r\nL 379.115828 96.518429 \r\nL 379.396347 97.427715 \r\nL 379.676867 95.73236 \r\nL 379.957386 92.96853 \r\nL 380.798945 94.661952 \r\nL 381.079464 94.250733 \r\nL 381.359984 94.247214 \r\nL 381.640503 93.430719 \r\nL 381.921023 95.275629 \r\nL 382.201542 95.859514 \r\nL 382.762581 94.987619 \r\nL 383.043101 95.574215 \r\nL 383.32362 95.62314 \r\nL 383.60414 96.297531 \r\nL 384.165179 96.258019 \r\nL 384.445698 96.526933 \r\nL 384.726218 95.184692 \r\nL 385.287256 95.467961 \r\nL 385.567776 93.991434 \r\nL 385.848295 93.832354 \r\nL 386.128815 94.678834 \r\nL 386.409334 94.35875 \r\nL 386.689854 94.367313 \r\nL 386.970373 94.173059 \r\nL 387.811932 94.111798 \r\nL 388.372971 93.321238 \r\nL 388.93401 93.819066 \r\nL 389.214529 93.055817 \r\nL 389.495049 92.89181 \r\nL 389.775568 89.815129 \r\nL 390.056088 88.805089 \r\nL 390.336607 88.383221 \r\nL 390.617127 89.251295 \r\nL 391.178166 88.498002 \r\nL 391.458685 88.153303 \r\nL 391.739205 88.783126 \r\nL 392.019724 88.413941 \r\nL 392.300244 88.326374 \r\nL 392.580763 86.857179 \r\nL 392.861282 86.906042 \r\nL 393.141802 85.110204 \r\nL 393.422321 81.279417 \r\nL 393.702841 81.132708 \r\nL 393.98336 80.430836 \r\nL 394.26388 81.747457 \r\nL 394.824919 79.289701 \r\nL 395.105438 79.642248 \r\nL 395.666477 81.326067 \r\nL 395.946997 81.712197 \r\nL 396.508036 78.998523 \r\nL 396.788555 78.555444 \r\nL 397.349594 75.001648 \r\nL 397.630114 74.810689 \r\nL 397.910633 75.473232 \r\nL 398.191153 73.458786 \r\nL 398.471672 74.648059 \r\nL 398.752192 72.560192 \r\nL 399.59375 75.64335 \r\nL 399.874269 75.731714 \r\nL 400.154789 77.2008 \r\nL 400.435308 77.768955 \r\nL 400.715828 77.547475 \r\nL 401.276867 73.762306 \r\nL 401.557386 73.440973 \r\nL 401.837906 74.10954 \r\nL 402.118425 76.747185 \r\nL 402.398945 76.389102 \r\nL 402.679464 75.434292 \r\nL 402.959984 76.048923 \r\nL 403.240503 76.129321 \r\nL 403.521023 77.74853 \r\nL 403.801542 77.205265 \r\nL 404.082062 75.737343 \r\nL 404.362581 75.906059 \r\nL 404.643101 76.59395 \r\nL 404.92362 76.122916 \r\nL 405.20414 76.297591 \r\nL 405.484659 76.279294 \r\nL 405.765179 76.717758 \r\nL 406.045698 79.904716 \r\nL 406.326218 80.360931 \r\nL 406.606737 80.143946 \r\nL 406.887256 80.516558 \r\nL 407.167776 80.389888 \r\nL 407.448295 79.571459 \r\nL 408.009334 80.863718 \r\nL 408.289854 80.96128 \r\nL 408.570373 80.808243 \r\nL 409.131412 78.269662 \r\nL 409.411932 78.410974 \r\nL 409.692451 78.294738 \r\nL 409.972971 78.023554 \r\nL 410.25349 79.102414 \r\nL 410.53401 79.118843 \r\nL 411.095049 80.470507 \r\nL 411.656088 83.561853 \r\nL 411.936607 81.994586 \r\nL 412.217127 81.912187 \r\nL 412.497646 82.556419 \r\nL 412.778166 81.93775 \r\nL 413.339205 82.828822 \r\nL 413.619724 83.028883 \r\nL 413.900244 82.587804 \r\nL 414.180763 82.94641 \r\nL 414.461282 82.67257 \r\nL 415.022321 82.751355 \r\nL 415.302841 83.46409 \r\nL 415.58336 82.419238 \r\nL 415.86388 80.771984 \r\nL 416.144399 80.820285 \r\nL 416.424919 79.033841 \r\nL 416.705438 78.914138 \r\nL 417.266477 80.000899 \r\nL 417.546997 79.568214 \r\nL 417.827516 78.148645 \r\nL 418.108036 77.95549 \r\nL 418.388555 78.382616 \r\nL 418.669075 77.134558 \r\nL 418.949594 77.04644 \r\nL 419.230114 76.339074 \r\nL 419.791153 77.517691 \r\nL 419.791153 77.517691 \r\n\" style=\"fill:none;stroke:#0000ff;stroke-linecap:square;stroke-width:1.5;\"/>\r\n   </g>\r\n   <g id=\"patch_3\">\r\n    <path d=\"M 75.59375 310.318125 \r\nL 75.59375 22.318125 \r\n\" style=\"fill:none;stroke:#000000;stroke-linecap:square;stroke-linejoin:miter;stroke-width:0.8;\"/>\r\n   </g>\r\n   <g id=\"patch_4\">\r\n    <path d=\"M 507.59375 310.318125 \r\nL 507.59375 22.318125 \r\n\" style=\"fill:none;stroke:#000000;stroke-linecap:square;stroke-linejoin:miter;stroke-width:0.8;\"/>\r\n   </g>\r\n   <g id=\"patch_5\">\r\n    <path d=\"M 75.59375 310.318125 \r\nL 507.59375 310.318125 \r\n\" style=\"fill:none;stroke:#000000;stroke-linecap:square;stroke-linejoin:miter;stroke-width:0.8;\"/>\r\n   </g>\r\n   <g id=\"patch_6\">\r\n    <path d=\"M 75.59375 22.318125 \r\nL 507.59375 22.318125 \r\n\" style=\"fill:none;stroke:#000000;stroke-linecap:square;stroke-linejoin:miter;stroke-width:0.8;\"/>\r\n   </g>\r\n   <g id=\"text_15\">\r\n    <!-- Predicted vs actual BTC price (log scales) -->\r\n    <defs>\r\n     <path d=\"M 19.671875 64.796875 \r\nL 19.671875 37.40625 \r\nL 32.078125 37.40625 \r\nQ 38.96875 37.40625 42.71875 40.96875 \r\nQ 46.484375 44.53125 46.484375 51.125 \r\nQ 46.484375 57.671875 42.71875 61.234375 \r\nQ 38.96875 64.796875 32.078125 64.796875 \r\nz\r\nM 9.8125 72.90625 \r\nL 32.078125 72.90625 \r\nQ 44.34375 72.90625 50.609375 67.359375 \r\nQ 56.890625 61.8125 56.890625 51.125 \r\nQ 56.890625 40.328125 50.609375 34.8125 \r\nQ 44.34375 29.296875 32.078125 29.296875 \r\nL 19.671875 29.296875 \r\nL 19.671875 0 \r\nL 9.8125 0 \r\nz\r\n\" id=\"DejaVuSans-80\"/>\r\n     <path d=\"M 45.40625 46.390625 \r\nL 45.40625 75.984375 \r\nL 54.390625 75.984375 \r\nL 54.390625 0 \r\nL 45.40625 0 \r\nL 45.40625 8.203125 \r\nQ 42.578125 3.328125 38.25 0.953125 \r\nQ 33.9375 -1.421875 27.875 -1.421875 \r\nQ 17.96875 -1.421875 11.734375 6.484375 \r\nQ 5.515625 14.40625 5.515625 27.296875 \r\nQ 5.515625 40.1875 11.734375 48.09375 \r\nQ 17.96875 56 27.875 56 \r\nQ 33.9375 56 38.25 53.625 \r\nQ 42.578125 51.265625 45.40625 46.390625 \r\nz\r\nM 14.796875 27.296875 \r\nQ 14.796875 17.390625 18.875 11.75 \r\nQ 22.953125 6.109375 30.078125 6.109375 \r\nQ 37.203125 6.109375 41.296875 11.75 \r\nQ 45.40625 17.390625 45.40625 27.296875 \r\nQ 45.40625 37.203125 41.296875 42.84375 \r\nQ 37.203125 48.484375 30.078125 48.484375 \r\nQ 22.953125 48.484375 18.875 42.84375 \r\nQ 14.796875 37.203125 14.796875 27.296875 \r\nz\r\n\" id=\"DejaVuSans-100\"/>\r\n     <path d=\"M 18.3125 70.21875 \r\nL 18.3125 54.6875 \r\nL 36.8125 54.6875 \r\nL 36.8125 47.703125 \r\nL 18.3125 47.703125 \r\nL 18.3125 18.015625 \r\nQ 18.3125 11.328125 20.140625 9.421875 \r\nQ 21.96875 7.515625 27.59375 7.515625 \r\nL 36.8125 7.515625 \r\nL 36.8125 0 \r\nL 27.59375 0 \r\nQ 17.1875 0 13.234375 3.875 \r\nQ 9.28125 7.765625 9.28125 18.015625 \r\nL 9.28125 47.703125 \r\nL 2.6875 47.703125 \r\nL 2.6875 54.6875 \r\nL 9.28125 54.6875 \r\nL 9.28125 70.21875 \r\nz\r\n\" id=\"DejaVuSans-116\"/>\r\n     <path d=\"M 2.984375 54.6875 \r\nL 12.5 54.6875 \r\nL 29.59375 8.796875 \r\nL 46.6875 54.6875 \r\nL 56.203125 54.6875 \r\nL 35.6875 0 \r\nL 23.484375 0 \r\nz\r\n\" id=\"DejaVuSans-118\"/>\r\n     <path d=\"M 44.28125 53.078125 \r\nL 44.28125 44.578125 \r\nQ 40.484375 46.53125 36.375 47.5 \r\nQ 32.28125 48.484375 27.875 48.484375 \r\nQ 21.1875 48.484375 17.84375 46.4375 \r\nQ 14.5 44.390625 14.5 40.28125 \r\nQ 14.5 37.15625 16.890625 35.375 \r\nQ 19.28125 33.59375 26.515625 31.984375 \r\nL 29.59375 31.296875 \r\nQ 39.15625 29.25 43.1875 25.515625 \r\nQ 47.21875 21.78125 47.21875 15.09375 \r\nQ 47.21875 7.46875 41.1875 3.015625 \r\nQ 35.15625 -1.421875 24.609375 -1.421875 \r\nQ 20.21875 -1.421875 15.453125 -0.5625 \r\nQ 10.6875 0.296875 5.421875 2 \r\nL 5.421875 11.28125 \r\nQ 10.40625 8.6875 15.234375 7.390625 \r\nQ 20.0625 6.109375 24.8125 6.109375 \r\nQ 31.15625 6.109375 34.5625 8.28125 \r\nQ 37.984375 10.453125 37.984375 14.40625 \r\nQ 37.984375 18.0625 35.515625 20.015625 \r\nQ 33.0625 21.96875 24.703125 23.78125 \r\nL 21.578125 24.515625 \r\nQ 13.234375 26.265625 9.515625 29.90625 \r\nQ 5.8125 33.546875 5.8125 39.890625 \r\nQ 5.8125 47.609375 11.28125 51.796875 \r\nQ 16.75 56 26.8125 56 \r\nQ 31.78125 56 36.171875 55.265625 \r\nQ 40.578125 54.546875 44.28125 53.078125 \r\nz\r\n\" id=\"DejaVuSans-115\"/>\r\n     <path d=\"M 34.28125 27.484375 \r\nQ 23.390625 27.484375 19.1875 25 \r\nQ 14.984375 22.515625 14.984375 16.5 \r\nQ 14.984375 11.71875 18.140625 8.90625 \r\nQ 21.296875 6.109375 26.703125 6.109375 \r\nQ 34.1875 6.109375 38.703125 11.40625 \r\nQ 43.21875 16.703125 43.21875 25.484375 \r\nL 43.21875 27.484375 \r\nz\r\nM 52.203125 31.203125 \r\nL 52.203125 0 \r\nL 43.21875 0 \r\nL 43.21875 8.296875 \r\nQ 40.140625 3.328125 35.546875 0.953125 \r\nQ 30.953125 -1.421875 24.3125 -1.421875 \r\nQ 15.921875 -1.421875 10.953125 3.296875 \r\nQ 6 8.015625 6 15.921875 \r\nQ 6 25.140625 12.171875 29.828125 \r\nQ 18.359375 34.515625 30.609375 34.515625 \r\nL 43.21875 34.515625 \r\nL 43.21875 35.40625 \r\nQ 43.21875 41.609375 39.140625 45 \r\nQ 35.0625 48.390625 27.6875 48.390625 \r\nQ 23 48.390625 18.546875 47.265625 \r\nQ 14.109375 46.140625 10.015625 43.890625 \r\nL 10.015625 52.203125 \r\nQ 14.9375 54.109375 19.578125 55.046875 \r\nQ 24.21875 56 28.609375 56 \r\nQ 40.484375 56 46.34375 49.84375 \r\nQ 52.203125 43.703125 52.203125 31.203125 \r\nz\r\n\" id=\"DejaVuSans-97\"/>\r\n     <path d=\"M 8.5 21.578125 \r\nL 8.5 54.6875 \r\nL 17.484375 54.6875 \r\nL 17.484375 21.921875 \r\nQ 17.484375 14.15625 20.5 10.265625 \r\nQ 23.53125 6.390625 29.59375 6.390625 \r\nQ 36.859375 6.390625 41.078125 11.03125 \r\nQ 45.3125 15.671875 45.3125 23.6875 \r\nL 45.3125 54.6875 \r\nL 54.296875 54.6875 \r\nL 54.296875 0 \r\nL 45.3125 0 \r\nL 45.3125 8.40625 \r\nQ 42.046875 3.421875 37.71875 1 \r\nQ 33.40625 -1.421875 27.6875 -1.421875 \r\nQ 18.265625 -1.421875 13.375 4.4375 \r\nQ 8.5 10.296875 8.5 21.578125 \r\nz\r\nM 31.109375 56 \r\nz\r\n\" id=\"DejaVuSans-117\"/>\r\n     <path d=\"M 9.421875 75.984375 \r\nL 18.40625 75.984375 \r\nL 18.40625 0 \r\nL 9.421875 0 \r\nz\r\n\" id=\"DejaVuSans-108\"/>\r\n     <path d=\"M 31 75.875 \r\nQ 24.46875 64.65625 21.28125 53.65625 \r\nQ 18.109375 42.671875 18.109375 31.390625 \r\nQ 18.109375 20.125 21.3125 9.0625 \r\nQ 24.515625 -2 31 -13.1875 \r\nL 23.1875 -13.1875 \r\nQ 15.875 -1.703125 12.234375 9.375 \r\nQ 8.59375 20.453125 8.59375 31.390625 \r\nQ 8.59375 42.28125 12.203125 53.3125 \r\nQ 15.828125 64.359375 23.1875 75.875 \r\nz\r\n\" id=\"DejaVuSans-40\"/>\r\n     <path d=\"M 30.609375 48.390625 \r\nQ 23.390625 48.390625 19.1875 42.75 \r\nQ 14.984375 37.109375 14.984375 27.296875 \r\nQ 14.984375 17.484375 19.15625 11.84375 \r\nQ 23.34375 6.203125 30.609375 6.203125 \r\nQ 37.796875 6.203125 41.984375 11.859375 \r\nQ 46.1875 17.53125 46.1875 27.296875 \r\nQ 46.1875 37.015625 41.984375 42.703125 \r\nQ 37.796875 48.390625 30.609375 48.390625 \r\nz\r\nM 30.609375 56 \r\nQ 42.328125 56 49.015625 48.375 \r\nQ 55.71875 40.765625 55.71875 27.296875 \r\nQ 55.71875 13.875 49.015625 6.21875 \r\nQ 42.328125 -1.421875 30.609375 -1.421875 \r\nQ 18.84375 -1.421875 12.171875 6.21875 \r\nQ 5.515625 13.875 5.515625 27.296875 \r\nQ 5.515625 40.765625 12.171875 48.375 \r\nQ 18.84375 56 30.609375 56 \r\nz\r\n\" id=\"DejaVuSans-111\"/>\r\n     <path d=\"M 45.40625 27.984375 \r\nQ 45.40625 37.75 41.375 43.109375 \r\nQ 37.359375 48.484375 30.078125 48.484375 \r\nQ 22.859375 48.484375 18.828125 43.109375 \r\nQ 14.796875 37.75 14.796875 27.984375 \r\nQ 14.796875 18.265625 18.828125 12.890625 \r\nQ 22.859375 7.515625 30.078125 7.515625 \r\nQ 37.359375 7.515625 41.375 12.890625 \r\nQ 45.40625 18.265625 45.40625 27.984375 \r\nz\r\nM 54.390625 6.78125 \r\nQ 54.390625 -7.171875 48.1875 -13.984375 \r\nQ 42 -20.796875 29.203125 -20.796875 \r\nQ 24.46875 -20.796875 20.265625 -20.09375 \r\nQ 16.0625 -19.390625 12.109375 -17.921875 \r\nL 12.109375 -9.1875 \r\nQ 16.0625 -11.328125 19.921875 -12.34375 \r\nQ 23.78125 -13.375 27.78125 -13.375 \r\nQ 36.625 -13.375 41.015625 -8.765625 \r\nQ 45.40625 -4.15625 45.40625 5.171875 \r\nL 45.40625 9.625 \r\nQ 42.625 4.78125 38.28125 2.390625 \r\nQ 33.9375 0 27.875 0 \r\nQ 17.828125 0 11.671875 7.65625 \r\nQ 5.515625 15.328125 5.515625 27.984375 \r\nQ 5.515625 40.671875 11.671875 48.328125 \r\nQ 17.828125 56 27.875 56 \r\nQ 33.9375 56 38.28125 53.609375 \r\nQ 42.625 51.21875 45.40625 46.390625 \r\nL 45.40625 54.6875 \r\nL 54.390625 54.6875 \r\nz\r\n\" id=\"DejaVuSans-103\"/>\r\n     <path d=\"M 8.015625 75.875 \r\nL 15.828125 75.875 \r\nQ 23.140625 64.359375 26.78125 53.3125 \r\nQ 30.421875 42.28125 30.421875 31.390625 \r\nQ 30.421875 20.453125 26.78125 9.375 \r\nQ 23.140625 -1.703125 15.828125 -13.1875 \r\nL 8.015625 -13.1875 \r\nQ 14.5 -2 17.703125 9.0625 \r\nQ 20.90625 20.125 20.90625 31.390625 \r\nQ 20.90625 42.671875 17.703125 53.65625 \r\nQ 14.5 64.65625 8.015625 75.875 \r\nz\r\n\" id=\"DejaVuSans-41\"/>\r\n    </defs>\r\n    <g transform=\"translate(167.285 16.318125)scale(0.12 -0.12)\">\r\n     <use xlink:href=\"#DejaVuSans-80\"/>\r\n     <use x=\"60.287109\" xlink:href=\"#DejaVuSans-114\"/>\r\n     <use x=\"101.369141\" xlink:href=\"#DejaVuSans-101\"/>\r\n     <use x=\"162.892578\" xlink:href=\"#DejaVuSans-100\"/>\r\n     <use x=\"226.369141\" xlink:href=\"#DejaVuSans-105\"/>\r\n     <use x=\"254.152344\" xlink:href=\"#DejaVuSans-99\"/>\r\n     <use x=\"309.132812\" xlink:href=\"#DejaVuSans-116\"/>\r\n     <use x=\"348.341797\" xlink:href=\"#DejaVuSans-101\"/>\r\n     <use x=\"409.865234\" xlink:href=\"#DejaVuSans-100\"/>\r\n     <use x=\"473.341797\" xlink:href=\"#DejaVuSans-32\"/>\r\n     <use x=\"505.128906\" xlink:href=\"#DejaVuSans-118\"/>\r\n     <use x=\"564.308594\" xlink:href=\"#DejaVuSans-115\"/>\r\n     <use x=\"616.408203\" xlink:href=\"#DejaVuSans-32\"/>\r\n     <use x=\"648.195312\" xlink:href=\"#DejaVuSans-97\"/>\r\n     <use x=\"709.474609\" xlink:href=\"#DejaVuSans-99\"/>\r\n     <use x=\"764.455078\" xlink:href=\"#DejaVuSans-116\"/>\r\n     <use x=\"803.664062\" xlink:href=\"#DejaVuSans-117\"/>\r\n     <use x=\"867.042969\" xlink:href=\"#DejaVuSans-97\"/>\r\n     <use x=\"928.322266\" xlink:href=\"#DejaVuSans-108\"/>\r\n     <use x=\"956.105469\" xlink:href=\"#DejaVuSans-32\"/>\r\n     <use x=\"987.892578\" xlink:href=\"#DejaVuSans-66\"/>\r\n     <use x=\"1056.496094\" xlink:href=\"#DejaVuSans-84\"/>\r\n     <use x=\"1117.501953\" xlink:href=\"#DejaVuSans-67\"/>\r\n     <use x=\"1187.326172\" xlink:href=\"#DejaVuSans-32\"/>\r\n     <use x=\"1219.113281\" xlink:href=\"#DejaVuSans-112\"/>\r\n     <use x=\"1282.589844\" xlink:href=\"#DejaVuSans-114\"/>\r\n     <use x=\"1323.703125\" xlink:href=\"#DejaVuSans-105\"/>\r\n     <use x=\"1351.486328\" xlink:href=\"#DejaVuSans-99\"/>\r\n     <use x=\"1406.466797\" xlink:href=\"#DejaVuSans-101\"/>\r\n     <use x=\"1467.990234\" xlink:href=\"#DejaVuSans-32\"/>\r\n     <use x=\"1499.777344\" xlink:href=\"#DejaVuSans-40\"/>\r\n     <use x=\"1538.791016\" xlink:href=\"#DejaVuSans-108\"/>\r\n     <use x=\"1566.574219\" xlink:href=\"#DejaVuSans-111\"/>\r\n     <use x=\"1627.755859\" xlink:href=\"#DejaVuSans-103\"/>\r\n     <use x=\"1691.232422\" xlink:href=\"#DejaVuSans-32\"/>\r\n     <use x=\"1723.019531\" xlink:href=\"#DejaVuSans-115\"/>\r\n     <use x=\"1775.119141\" xlink:href=\"#DejaVuSans-99\"/>\r\n     <use x=\"1830.099609\" xlink:href=\"#DejaVuSans-97\"/>\r\n     <use x=\"1891.378906\" xlink:href=\"#DejaVuSans-108\"/>\r\n     <use x=\"1919.162109\" xlink:href=\"#DejaVuSans-101\"/>\r\n     <use x=\"1980.685547\" xlink:href=\"#DejaVuSans-115\"/>\r\n     <use x=\"2032.785156\" xlink:href=\"#DejaVuSans-41\"/>\r\n    </g>\r\n   </g>\r\n   <g id=\"legend_1\">\r\n    <g id=\"patch_7\">\r\n     <path d=\"M 81.19375 52.203125 \r\nL 167.3725 52.203125 \r\nQ 168.9725 52.203125 168.9725 50.603125 \r\nL 168.9725 27.918125 \r\nQ 168.9725 26.318125 167.3725 26.318125 \r\nL 81.19375 26.318125 \r\nQ 79.59375 26.318125 79.59375 27.918125 \r\nL 79.59375 50.603125 \r\nQ 79.59375 52.203125 81.19375 52.203125 \r\nz\r\n\" style=\"fill:#ffffff;opacity:0.8;stroke:#cccccc;stroke-linejoin:miter;\"/>\r\n    </g>\r\n    <g id=\"line2d_139\">\r\n     <path d=\"M 82.79375 32.796875 \r\nL 98.79375 32.796875 \r\n\" style=\"fill:none;stroke:#ff0000;stroke-linecap:square;stroke-width:1.5;\"/>\r\n    </g>\r\n    <g id=\"line2d_140\"/>\r\n    <g id=\"text_16\">\r\n     <!-- predicted price -->\r\n     <g transform=\"translate(105.19375 35.596875)scale(0.08 -0.08)\">\r\n      <use xlink:href=\"#DejaVuSans-112\"/>\r\n      <use x=\"63.476562\" xlink:href=\"#DejaVuSans-114\"/>\r\n      <use x=\"104.558594\" xlink:href=\"#DejaVuSans-101\"/>\r\n      <use x=\"166.082031\" xlink:href=\"#DejaVuSans-100\"/>\r\n      <use x=\"229.558594\" xlink:href=\"#DejaVuSans-105\"/>\r\n      <use x=\"257.341797\" xlink:href=\"#DejaVuSans-99\"/>\r\n      <use x=\"312.322266\" xlink:href=\"#DejaVuSans-116\"/>\r\n      <use x=\"351.53125\" xlink:href=\"#DejaVuSans-101\"/>\r\n      <use x=\"413.054688\" xlink:href=\"#DejaVuSans-100\"/>\r\n      <use x=\"476.53125\" xlink:href=\"#DejaVuSans-32\"/>\r\n      <use x=\"508.318359\" xlink:href=\"#DejaVuSans-112\"/>\r\n      <use x=\"571.794922\" xlink:href=\"#DejaVuSans-114\"/>\r\n      <use x=\"612.908203\" xlink:href=\"#DejaVuSans-105\"/>\r\n      <use x=\"640.691406\" xlink:href=\"#DejaVuSans-99\"/>\r\n      <use x=\"695.671875\" xlink:href=\"#DejaVuSans-101\"/>\r\n     </g>\r\n    </g>\r\n    <g id=\"line2d_141\">\r\n     <path d=\"M 82.79375 44.539375 \r\nL 98.79375 44.539375 \r\n\" style=\"fill:none;stroke:#0000ff;stroke-linecap:square;stroke-width:1.5;\"/>\r\n    </g>\r\n    <g id=\"line2d_142\"/>\r\n    <g id=\"text_17\">\r\n     <!-- actual price -->\r\n     <g transform=\"translate(105.19375 47.339375)scale(0.08 -0.08)\">\r\n      <use xlink:href=\"#DejaVuSans-97\"/>\r\n      <use x=\"61.279297\" xlink:href=\"#DejaVuSans-99\"/>\r\n      <use x=\"116.259766\" xlink:href=\"#DejaVuSans-116\"/>\r\n      <use x=\"155.46875\" xlink:href=\"#DejaVuSans-117\"/>\r\n      <use x=\"218.847656\" xlink:href=\"#DejaVuSans-97\"/>\r\n      <use x=\"280.126953\" xlink:href=\"#DejaVuSans-108\"/>\r\n      <use x=\"307.910156\" xlink:href=\"#DejaVuSans-32\"/>\r\n      <use x=\"339.697266\" xlink:href=\"#DejaVuSans-112\"/>\r\n      <use x=\"403.173828\" xlink:href=\"#DejaVuSans-114\"/>\r\n      <use x=\"444.287109\" xlink:href=\"#DejaVuSans-105\"/>\r\n      <use x=\"472.070312\" xlink:href=\"#DejaVuSans-99\"/>\r\n      <use x=\"527.050781\" xlink:href=\"#DejaVuSans-101\"/>\r\n     </g>\r\n    </g>\r\n   </g>\r\n  </g>\r\n </g>\r\n <defs>\r\n  <clipPath id=\"p9cc784e9ed\">\r\n   <rect height=\"288\" width=\"432\" x=\"75.59375\" y=\"22.318125\"/>\r\n  </clipPath>\r\n </defs>\r\n</svg>\r\n",
      "text/plain": "<Figure size 432x288 with 1 Axes>"
     },
     "metadata": {
      "needs_background": "light"
     },
     "output_type": "display_data"
    }
   ],
   "source": [
    "fig = plt.figure()\n",
    "ax = fig.add_axes([0, 0, 1, 1]) # main axes\n",
    "ax.semilogy(df_future['date'], df_future['predicted_price'], color=colors[4])\n",
    "ax.semilogy(df_future['date'], df_future['price'], color=colors[0])\n",
    "ax.set_title('Predicted vs actual BTC price (log scales)')\n",
    "ax.legend(('predicted price','actual price'),\n",
    "    loc=\"upper left\",\n",
    "    ncol=1,\n",
    "    fontsize=8)\n",
    "\n",
    "ax.set_ylabel('BTC price')\n",
    "format = '${x:,.0f}'\n",
    "tick = ticker.StrMethodFormatter(format)\n",
    "ax.yaxis.set_major_formatter(tick)\n",
    "plt.grid(True, which=\"both\")\n",
    "plt.show();"
   ]
  },
  {
   "cell_type": "markdown",
   "execution_count": null,
   "metadata": {},
   "outputs": [],
   "source": [
    "# Conclusions\n",
    "\n",
    "As you can see in the previous charts and regression data, the original work of PlanB has been replicated successfully.\n",
    "Not only that, I used a dataset 10 times bigger than the original one and the logarithmic relationship between SF and Market capitalization of bitcoin holds (he used the average value of BTC per month, while we have used one data point each 3 days).\n",
    "In this case, the value of the linear relationship are only slighly different:\n",
    "\n",
    "```\n",
    "ln(Market cap) = 3.56*ln(SF) + 14.09\n",
    "```\n",
    "\n",
    "The SF model for BTC price predicts very accurately the logarithm of the BTC price based on the logarithm of the SF value, with an error of less than 20% most of the time. However, this accurate prediction does not translate well to the prediction of the BTC price, which ranges wildly from very low error to values in the range of 100% / 200%.\n",
    "\n",
    "Additionally, it also encouraging that the work done here has used different sources of data and tools than the ones he used in PlanB's paper.\n",
    "The price dataset used in this exercise has limited the granularity to at least one datapoint each 3 days. As soon as more data are available, we can run this again and obtain updated results.\n",
    "\n",
    "\n"
   ]
  },
  {
   "cell_type": "markdown",
   "execution_count": null,
   "metadata": {},
   "outputs": [],
   "source": [
    "# References\n",
    "\n",
    "\\[1\\] Modeling Bitcoin's Value with Scarcity\n",
    "\n",
    "https://medium.com/@100trillionUSD/modeling-bitcoins-value-with-scarcity-91fa0fc03e25\n",
    "\n",
    "\\[2\\] Building a bitcoin dataset\n",
    "\n",
    "https://medium.com/burgercrypto-com/building-a-bitcoin-dataset-b2f526d667ce\n",
    "\n",
    "\\[3\\] Aggregation and grouping data\n",
    "\n",
    "https://www.shanelynn.ie/summarising-aggregation-and-grouping-data-in-python-pandas/\n",
    "\n",
    "\\[4\\] Joining and merging dataframes in pandas\n",
    "\n",
    "https://chrisalbon.com/python/data_wrangling/pandas_join_merge_dataframe/\n",
    "\n",
    "\\[5\\] A beginner's guide to linear regression\n",
    "\n",
    "https://towardsdatascience.com/a-beginners-guide-to-linear-regression-in-python-with-scikit-learn-83a8f7ae2b4f\n",
    "\n",
    "\\[6\\] How to make histograms in Python\n",
    "\n",
    "https://cmdlinetips.com/2019/02/how-to-make-histogram-in-python-with-pandas-and-seaborn/\n",
    "\n",
    "\\[7\\] API reference for the Axes class for plotting\n",
    "\n",
    "https://matplotlib.org/3.1.0/api/axes_api.html"
   ]
  }
 ]
}